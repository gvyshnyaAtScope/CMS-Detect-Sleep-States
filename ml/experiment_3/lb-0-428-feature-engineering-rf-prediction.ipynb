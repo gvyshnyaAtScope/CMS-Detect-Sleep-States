{
 "cells": [
  {
   "cell_type": "markdown",
   "id": "003b6b5e",
   "metadata": {
    "papermill": {
     "duration": 0.008103,
     "end_time": "2023-09-28T08:34:31.739032",
     "exception": false,
     "start_time": "2023-09-28T08:34:31.730929",
     "status": "completed"
    },
    "tags": []
   },
   "source": [
    "### Building on the [Kaggle notebook](https://www.kaggle.com/code/lccburk/feature-engineering-and-random-forest-prediction) 📔, only tweaked RandomForest parameters 🌲: `n_estimators` to 125 and `min_samples_leaf` to 10. Achieved an improved leaderboard score of 0.428 👍.\""
   ]
  },
  {
   "cell_type": "code",
   "execution_count": null,
   "id": "84c0bb93",
   "metadata": {
    "papermill": {
     "duration": 0.007349,
     "end_time": "2023-09-28T08:34:31.754198",
     "exception": false,
     "start_time": "2023-09-28T08:34:31.746849",
     "status": "completed"
    },
    "tags": []
   },
   "outputs": [],
   "source": []
  },
  {
   "cell_type": "markdown",
   "id": "31485266",
   "metadata": {
    "papermill": {
     "duration": 0.007396,
     "end_time": "2023-09-28T08:34:31.769373",
     "exception": false,
     "start_time": "2023-09-28T08:34:31.761977",
     "status": "completed"
    },
    "tags": []
   },
   "source": [
    "# Feature Engineering and Random Forest Prediction to Detect Sleep States"
   ]
  },
  {
   "cell_type": "code",
   "execution_count": 1,
   "id": "d2519455",
   "metadata": {
    "_cell_guid": "b1076dfc-b9ad-4769-8c92-a6c4dae69d19",
    "_uuid": "8f2839f25d086af736a60e9eeb907d3b93b6e0e5",
    "execution": {
     "iopub.execute_input": "2023-09-28T08:34:31.788102Z",
     "iopub.status.busy": "2023-09-28T08:34:31.787122Z",
     "iopub.status.idle": "2023-09-28T08:34:33.354606Z",
     "shell.execute_reply": "2023-09-28T08:34:33.353631Z"
    },
    "papermill": {
     "duration": 1.580046,
     "end_time": "2023-09-28T08:34:33.357639",
     "exception": false,
     "start_time": "2023-09-28T08:34:31.777593",
     "status": "completed"
    },
    "tags": []
   },
   "outputs": [],
   "source": [
    "import numpy as np \n",
    "import pandas as pd\n",
    "import matplotlib.pyplot as plt\n",
    "import polars as pl\n",
    "import datetime \n",
    "from tqdm import tqdm\n",
    "\n",
    "import plotly.express as px\n",
    "from plotly.subplots import make_subplots\n",
    "import plotly.graph_objects as go\n",
    "\n",
    "from metric import score # Import event detection ap score function\n",
    "\n",
    "# These are variables to be used by the score function\n",
    "column_names = {\n",
    "    'series_id_column_name': 'series_id',\n",
    "    'time_column_name': 'step',\n",
    "    'event_column_name': 'event',\n",
    "    'score_column_name': 'score',\n",
    "}\n",
    "\n",
    "tolerances = {\n",
    "    'onset': [12, 36, 60, 90, 120, 150, 180, 240, 300, 360], \n",
    "    'wakeup': [12, 36, 60, 90, 120, 150, 180, 240, 300, 360]\n",
    "}"
   ]
  },
  {
   "cell_type": "markdown",
   "id": "5d87fd66",
   "metadata": {
    "papermill": {
     "duration": 0.007458,
     "end_time": "2023-09-28T08:34:33.372985",
     "exception": false,
     "start_time": "2023-09-28T08:34:33.365527",
     "status": "completed"
    },
    "tags": []
   },
   "source": [
    "## Importing data"
   ]
  },
  {
   "cell_type": "code",
   "execution_count": 2,
   "id": "1cc265a2",
   "metadata": {
    "execution": {
     "iopub.execute_input": "2023-09-28T08:34:33.390458Z",
     "iopub.status.busy": "2023-09-28T08:34:33.389878Z",
     "iopub.status.idle": "2023-09-28T08:34:33.712452Z",
     "shell.execute_reply": "2023-09-28T08:34:33.711531Z"
    },
    "papermill": {
     "duration": 0.334574,
     "end_time": "2023-09-28T08:34:33.715329",
     "exception": false,
     "start_time": "2023-09-28T08:34:33.380755",
     "status": "completed"
    },
    "tags": []
   },
   "outputs": [],
   "source": [
    "# Importing data \n",
    "\n",
    "# Column transformations\n",
    "\n",
    "dt_transforms = [\n",
    "    pl.col('timestamp').str.to_datetime(), \n",
    "    (pl.col('timestamp').str.to_datetime().dt.year()-2000).cast(pl.UInt8).alias('year'), \n",
    "    pl.col('timestamp').str.to_datetime().dt.month().cast(pl.UInt8).alias('month'),\n",
    "    pl.col('timestamp').str.to_datetime().dt.day().cast(pl.UInt8).alias('day'), \n",
    "    pl.col('timestamp').str.to_datetime().dt.hour().cast(pl.UInt8).alias('hour')\n",
    "]\n",
    "\n",
    "data_transforms = [\n",
    "    pl.col('anglez').cast(pl.Int16), # Casting anglez to 16 bit integer\n",
    "    (pl.col('enmo')*1000).cast(pl.UInt16), # Convert enmo to 16 bit uint\n",
    "]\n",
    "\n",
    "train_series = pl.scan_parquet('/kaggle/input/child-mind-institute-detect-sleep-states/train_series.parquet').with_columns(\n",
    "    dt_transforms + data_transforms\n",
    "    )\n",
    "\n",
    "train_events = pl.read_csv('/kaggle/input/child-mind-institute-detect-sleep-states/train_events.csv').with_columns(\n",
    "    dt_transforms\n",
    "    )\n",
    "\n",
    "test_series = pl.scan_parquet('/kaggle/input/child-mind-institute-detect-sleep-states/test_series.parquet').with_columns(\n",
    "    dt_transforms + data_transforms\n",
    "    )\n",
    "\n",
    "# Getting series ids as a list for convenience\n",
    "series_ids = train_events['series_id'].unique(maintain_order=True).to_list()\n",
    "\n",
    "# Removing series with mismatched counts: \n",
    "onset_counts = train_events.filter(pl.col('event')=='onset').group_by('series_id').count().sort('series_id')['count']\n",
    "wakeup_counts = train_events.filter(pl.col('event')=='wakeup').group_by('series_id').count().sort('series_id')['count']\n",
    "\n",
    "counts = pl.DataFrame({'series_id':sorted(series_ids), 'onset_counts':onset_counts, 'wakeup_counts':wakeup_counts})\n",
    "count_mismatches = counts.filter(counts['onset_counts'] != counts['wakeup_counts'])\n",
    "\n",
    "train_series = train_series.filter(~pl.col('series_id').is_in(count_mismatches['series_id']))\n",
    "train_events = train_events.filter(~pl.col('series_id').is_in(count_mismatches['series_id']))\n",
    "\n",
    "# Updating list of series ids, not including series with no non-null values.\n",
    "series_ids = train_events.drop_nulls()['series_id'].unique(maintain_order=True).to_list()"
   ]
  },
  {
   "cell_type": "markdown",
   "id": "ad1c171c",
   "metadata": {
    "papermill": {
     "duration": 0.007543,
     "end_time": "2023-09-28T08:34:33.730992",
     "exception": false,
     "start_time": "2023-09-28T08:34:33.723449",
     "status": "completed"
    },
    "tags": []
   },
   "source": [
    "## Feature Engineering"
   ]
  },
  {
   "cell_type": "code",
   "execution_count": 3,
   "id": "e6704ded",
   "metadata": {
    "execution": {
     "iopub.execute_input": "2023-09-28T08:34:33.747938Z",
     "iopub.status.busy": "2023-09-28T08:34:33.747454Z",
     "iopub.status.idle": "2023-09-28T08:34:33.763600Z",
     "shell.execute_reply": "2023-09-28T08:34:33.762111Z"
    },
    "papermill": {
     "duration": 0.027712,
     "end_time": "2023-09-28T08:34:33.766258",
     "exception": false,
     "start_time": "2023-09-28T08:34:33.738546",
     "status": "completed"
    },
    "tags": []
   },
   "outputs": [],
   "source": [
    "features, feature_cols = [pl.col('hour')], ['hour']\n",
    "\n",
    "for mins in [5, 30, 60*2, 60*8] :\n",
    "    features += [\n",
    "        pl.col('enmo').rolling_mean(12 * mins, center=True, min_periods=1).abs().cast(pl.UInt16).alias(f'enmo_{mins}m_mean'),\n",
    "        pl.col('enmo').rolling_max(12 * mins, center=True, min_periods=1).abs().cast(pl.UInt16).alias(f'enmo_{mins}m_max')\n",
    "    ]\n",
    "\n",
    "    feature_cols += [ \n",
    "        f'enmo_{mins}m_mean', f'enmo_{mins}m_max'\n",
    "    ]\n",
    "\n",
    "    # Getting first variations\n",
    "    for var in ['enmo', 'anglez'] :\n",
    "        features += [\n",
    "            (pl.col(var).diff().abs().rolling_mean(12 * mins, center=True, min_periods=1)*10).abs().cast(pl.UInt32).alias(f'{var}_1v_{mins}m_mean'),\n",
    "            (pl.col(var).diff().abs().rolling_max(12 * mins, center=True, min_periods=1)*10).abs().cast(pl.UInt32).alias(f'{var}_1v_{mins}m_max')\n",
    "        ]\n",
    "\n",
    "        feature_cols += [ \n",
    "            f'{var}_1v_{mins}m_mean', f'{var}_1v_{mins}m_max'\n",
    "        ]\n",
    "\n",
    "id_cols = ['series_id', 'step', 'timestamp']\n",
    "\n",
    "train_series = train_series.with_columns(\n",
    "    features\n",
    ").select(id_cols + feature_cols)\n",
    "\n",
    "test_series = test_series.with_columns(\n",
    "    features\n",
    ").select(id_cols + feature_cols)"
   ]
  },
  {
   "cell_type": "code",
   "execution_count": 4,
   "id": "de4bb87a",
   "metadata": {
    "execution": {
     "iopub.execute_input": "2023-09-28T08:34:33.784044Z",
     "iopub.status.busy": "2023-09-28T08:34:33.783564Z",
     "iopub.status.idle": "2023-09-28T08:34:33.796143Z",
     "shell.execute_reply": "2023-09-28T08:34:33.794928Z"
    },
    "papermill": {
     "duration": 0.024514,
     "end_time": "2023-09-28T08:34:33.798726",
     "exception": false,
     "start_time": "2023-09-28T08:34:33.774212",
     "status": "completed"
    },
    "tags": []
   },
   "outputs": [],
   "source": [
    "def make_train_dataset(train_data, train_events, drop_nulls=False) :\n",
    "    \n",
    "    series_ids = train_data['series_id'].unique(maintain_order=True).to_list()\n",
    "    X, y = pl.DataFrame(), pl.DataFrame()\n",
    "    for idx in tqdm(series_ids) : \n",
    "        \n",
    "        # Normalizing sample features\n",
    "        sample = train_data.filter(pl.col('series_id')==idx).with_columns(\n",
    "            [(pl.col(col) / pl.col(col).std()).cast(pl.Float32) for col in feature_cols if col != 'hour']\n",
    "        )\n",
    "        \n",
    "        events = train_events.filter(pl.col('series_id')==idx)\n",
    "        \n",
    "        if drop_nulls : \n",
    "            # Removing datapoints on dates where no data was recorded\n",
    "            sample = sample.filter(\n",
    "                pl.col('timestamp').dt.date().is_in(events['timestamp'].dt.date())\n",
    "            )\n",
    "        \n",
    "        X = X.vstack(sample[id_cols + feature_cols])\n",
    "\n",
    "        onsets = events.filter((pl.col('event') == 'onset') & (pl.col('step') != None))['step'].to_list()\n",
    "        wakeups = events.filter((pl.col('event') == 'wakeup') & (pl.col('step') != None))['step'].to_list()\n",
    "\n",
    "        # NOTE: This will break if there are event series without any recorded onsets or wakeups\n",
    "        y = y.vstack(sample.with_columns(\n",
    "            sum([(onset <= pl.col('step')) & (pl.col('step') <= wakeup) for onset, wakeup in zip(onsets, wakeups)]).cast(pl.Boolean).alias('asleep')\n",
    "            ).select('asleep')\n",
    "            )\n",
    "    \n",
    "    y = y.to_numpy().ravel()\n",
    "    \n",
    "    return X, y"
   ]
  },
  {
   "cell_type": "code",
   "execution_count": 5,
   "id": "0874908b",
   "metadata": {
    "execution": {
     "iopub.execute_input": "2023-09-28T08:34:33.817471Z",
     "iopub.status.busy": "2023-09-28T08:34:33.816785Z",
     "iopub.status.idle": "2023-09-28T08:34:33.833530Z",
     "shell.execute_reply": "2023-09-28T08:34:33.831930Z"
    },
    "papermill": {
     "duration": 0.029188,
     "end_time": "2023-09-28T08:34:33.836339",
     "exception": false,
     "start_time": "2023-09-28T08:34:33.807151",
     "status": "completed"
    },
    "tags": []
   },
   "outputs": [],
   "source": [
    "def get_events(series, classifier) :\n",
    "    '''\n",
    "    Takes a time series and a classifier and returns a formatted submission dataframe.\n",
    "    '''\n",
    "    \n",
    "    series_ids = series['series_id'].unique(maintain_order=True).to_list()\n",
    "    events = pl.DataFrame(schema={'series_id':str, 'step':int, 'event':str, 'score':float})\n",
    "\n",
    "    for idx in tqdm(series_ids) : \n",
    "\n",
    "        # Collecting sample and normalizing features\n",
    "        scale_cols = [col for col in feature_cols if (col != 'hour') & (series[col].std() !=0)]\n",
    "        X = series.filter(pl.col('series_id') == idx).select(id_cols + feature_cols).with_columns(\n",
    "            [(pl.col(col) / series[col].std()).cast(pl.Float32) for col in scale_cols]\n",
    "        )\n",
    "\n",
    "        # Applying classifier to get predictions and scores\n",
    "        preds, probs = classifier.predict(X[feature_cols]), classifier.predict_proba(X[feature_cols])[:, 1]\n",
    "\n",
    "        #NOTE: Considered using rolling max to get sleep periods excluding <30 min interruptions, but ended up decreasing performance\n",
    "        X = X.with_columns(\n",
    "            pl.lit(preds).cast(pl.Int8).alias('prediction'), \n",
    "            pl.lit(probs).alias('probability')\n",
    "                        )\n",
    "        \n",
    "        # Getting predicted onset and wakeup time steps\n",
    "        pred_onsets = X.filter(X['prediction'].diff() > 0)['step'].to_list()\n",
    "        pred_wakeups = X.filter(X['prediction'].diff() < 0)['step'].to_list()\n",
    "        \n",
    "        if len(pred_onsets) > 0 : \n",
    "            \n",
    "            # Ensuring all predicted sleep periods begin and end\n",
    "            if min(pred_wakeups) < min(pred_onsets) : \n",
    "                pred_wakeups = pred_wakeups[1:]\n",
    "\n",
    "            if max(pred_onsets) > max(pred_wakeups) :\n",
    "                pred_onsets = pred_onsets[:-1]\n",
    "\n",
    "            # Keeping sleep periods longer than 30 minutes\n",
    "            sleep_periods = [(onset, wakeup) for onset, wakeup in zip(pred_onsets, pred_wakeups) if wakeup - onset >= 12 * 30]\n",
    "\n",
    "            for onset, wakeup in sleep_periods :\n",
    "                # Scoring using mean probability over period\n",
    "                score = X.filter((pl.col('step') >= onset) & (pl.col('step') <= wakeup))['probability'].mean()\n",
    "\n",
    "                # Adding sleep event to dataframe\n",
    "                events = events.vstack(pl.DataFrame().with_columns(\n",
    "                    pl.Series([idx, idx]).alias('series_id'), \n",
    "                    pl.Series([onset, wakeup]).alias('step'),\n",
    "                    pl.Series(['onset', 'wakeup']).alias('event'),\n",
    "                    pl.Series([score, score]).alias('score')\n",
    "                ))\n",
    "\n",
    "    # Adding row id column\n",
    "    events = events.to_pandas().reset_index().rename(columns={'index':'row_id'})\n",
    "\n",
    "    return events"
   ]
  },
  {
   "cell_type": "markdown",
   "id": "7a0e1fc8",
   "metadata": {
    "papermill": {
     "duration": 0.00738,
     "end_time": "2023-09-28T08:34:33.851440",
     "exception": false,
     "start_time": "2023-09-28T08:34:33.844060",
     "status": "completed"
    },
    "tags": []
   },
   "source": [
    "## Training Models"
   ]
  },
  {
   "cell_type": "code",
   "execution_count": 6,
   "id": "05f7aca3",
   "metadata": {
    "execution": {
     "iopub.execute_input": "2023-09-28T08:34:33.868840Z",
     "iopub.status.busy": "2023-09-28T08:34:33.868157Z",
     "iopub.status.idle": "2023-09-28T08:40:50.285787Z",
     "shell.execute_reply": "2023-09-28T08:40:50.284767Z"
    },
    "papermill": {
     "duration": 376.437271,
     "end_time": "2023-09-28T08:40:50.296345",
     "exception": false,
     "start_time": "2023-09-28T08:34:33.859074",
     "status": "completed"
    },
    "tags": []
   },
   "outputs": [
    {
     "data": {
      "text/plain": [
       "\"\\n# We will collect datapoints and take 1 million samples\\ntrain_data = train_series.filter(pl.col('series_id').is_in(series_ids)).collect().sample(int(1e6))\\n\""
      ]
     },
     "execution_count": 6,
     "metadata": {},
     "output_type": "execute_result"
    }
   ],
   "source": [
    "\n",
    "from sklearn.model_selection import train_test_split\n",
    "\n",
    "train_ids, val_ids = train_test_split(series_ids, train_size=0.7, random_state=42)\n",
    "\n",
    "# We will collect datapoints at 10 minute intervals for training for validating\n",
    "train_data = train_series.filter(pl.col('series_id').is_in(train_ids)).take_every(12 * 10).collect()\n",
    "\n",
    "val_data = train_series.filter(pl.col('series_id').is_in(val_ids)).collect()\n",
    "val_solution = train_events.filter(pl.col('series_id').is_in(val_ids)).select(['series_id', 'event', 'step']).to_pandas()\n",
    "'''\n",
    "# We will collect datapoints and take 1 million samples\n",
    "train_data = train_series.filter(pl.col('series_id').is_in(series_ids)).collect().sample(int(1e6))\n",
    "'''"
   ]
  },
  {
   "cell_type": "code",
   "execution_count": 7,
   "id": "bf303b56",
   "metadata": {
    "execution": {
     "iopub.execute_input": "2023-09-28T08:40:50.315006Z",
     "iopub.status.busy": "2023-09-28T08:40:50.314163Z",
     "iopub.status.idle": "2023-09-28T08:40:53.014774Z",
     "shell.execute_reply": "2023-09-28T08:40:53.013612Z"
    },
    "papermill": {
     "duration": 2.712678,
     "end_time": "2023-09-28T08:40:53.017214",
     "exception": false,
     "start_time": "2023-09-28T08:40:50.304536",
     "status": "completed"
    },
    "tags": []
   },
   "outputs": [
    {
     "name": "stderr",
     "output_type": "stream",
     "text": [
      "100%|██████████| 188/188 [00:02<00:00, 70.30it/s]\n"
     ]
    }
   ],
   "source": [
    "# Creating train dataset\n",
    "X_train, y_train = make_train_dataset(train_data, train_events)"
   ]
  },
  {
   "cell_type": "markdown",
   "id": "4c1dae8a",
   "metadata": {
    "papermill": {
     "duration": 0.010611,
     "end_time": "2023-09-28T08:40:53.038568",
     "exception": false,
     "start_time": "2023-09-28T08:40:53.027957",
     "status": "completed"
    },
    "tags": []
   },
   "source": [
    "### Training and validating random forest"
   ]
  },
  {
   "cell_type": "code",
   "execution_count": 8,
   "id": "f9542219",
   "metadata": {
    "execution": {
     "iopub.execute_input": "2023-09-28T08:40:53.061383Z",
     "iopub.status.busy": "2023-09-28T08:40:53.060613Z",
     "iopub.status.idle": "2023-09-28T08:46:15.935027Z",
     "shell.execute_reply": "2023-09-28T08:46:15.933277Z"
    },
    "papermill": {
     "duration": 322.903763,
     "end_time": "2023-09-28T08:46:15.952779",
     "exception": false,
     "start_time": "2023-09-28T08:40:53.049016",
     "status": "completed"
    },
    "tags": []
   },
   "outputs": [
    {
     "data": {
      "text/html": [
       "<style>#sk-container-id-1 {color: black;background-color: white;}#sk-container-id-1 pre{padding: 0;}#sk-container-id-1 div.sk-toggleable {background-color: white;}#sk-container-id-1 label.sk-toggleable__label {cursor: pointer;display: block;width: 100%;margin-bottom: 0;padding: 0.3em;box-sizing: border-box;text-align: center;}#sk-container-id-1 label.sk-toggleable__label-arrow:before {content: \"▸\";float: left;margin-right: 0.25em;color: #696969;}#sk-container-id-1 label.sk-toggleable__label-arrow:hover:before {color: black;}#sk-container-id-1 div.sk-estimator:hover label.sk-toggleable__label-arrow:before {color: black;}#sk-container-id-1 div.sk-toggleable__content {max-height: 0;max-width: 0;overflow: hidden;text-align: left;background-color: #f0f8ff;}#sk-container-id-1 div.sk-toggleable__content pre {margin: 0.2em;color: black;border-radius: 0.25em;background-color: #f0f8ff;}#sk-container-id-1 input.sk-toggleable__control:checked~div.sk-toggleable__content {max-height: 200px;max-width: 100%;overflow: auto;}#sk-container-id-1 input.sk-toggleable__control:checked~label.sk-toggleable__label-arrow:before {content: \"▾\";}#sk-container-id-1 div.sk-estimator input.sk-toggleable__control:checked~label.sk-toggleable__label {background-color: #d4ebff;}#sk-container-id-1 div.sk-label input.sk-toggleable__control:checked~label.sk-toggleable__label {background-color: #d4ebff;}#sk-container-id-1 input.sk-hidden--visually {border: 0;clip: rect(1px 1px 1px 1px);clip: rect(1px, 1px, 1px, 1px);height: 1px;margin: -1px;overflow: hidden;padding: 0;position: absolute;width: 1px;}#sk-container-id-1 div.sk-estimator {font-family: monospace;background-color: #f0f8ff;border: 1px dotted black;border-radius: 0.25em;box-sizing: border-box;margin-bottom: 0.5em;}#sk-container-id-1 div.sk-estimator:hover {background-color: #d4ebff;}#sk-container-id-1 div.sk-parallel-item::after {content: \"\";width: 100%;border-bottom: 1px solid gray;flex-grow: 1;}#sk-container-id-1 div.sk-label:hover label.sk-toggleable__label {background-color: #d4ebff;}#sk-container-id-1 div.sk-serial::before {content: \"\";position: absolute;border-left: 1px solid gray;box-sizing: border-box;top: 0;bottom: 0;left: 50%;z-index: 0;}#sk-container-id-1 div.sk-serial {display: flex;flex-direction: column;align-items: center;background-color: white;padding-right: 0.2em;padding-left: 0.2em;position: relative;}#sk-container-id-1 div.sk-item {position: relative;z-index: 1;}#sk-container-id-1 div.sk-parallel {display: flex;align-items: stretch;justify-content: center;background-color: white;position: relative;}#sk-container-id-1 div.sk-item::before, #sk-container-id-1 div.sk-parallel-item::before {content: \"\";position: absolute;border-left: 1px solid gray;box-sizing: border-box;top: 0;bottom: 0;left: 50%;z-index: -1;}#sk-container-id-1 div.sk-parallel-item {display: flex;flex-direction: column;z-index: 1;position: relative;background-color: white;}#sk-container-id-1 div.sk-parallel-item:first-child::after {align-self: flex-end;width: 50%;}#sk-container-id-1 div.sk-parallel-item:last-child::after {align-self: flex-start;width: 50%;}#sk-container-id-1 div.sk-parallel-item:only-child::after {width: 0;}#sk-container-id-1 div.sk-dashed-wrapped {border: 1px dashed gray;margin: 0 0.4em 0.5em 0.4em;box-sizing: border-box;padding-bottom: 0.4em;background-color: white;}#sk-container-id-1 div.sk-label label {font-family: monospace;font-weight: bold;display: inline-block;line-height: 1.2em;}#sk-container-id-1 div.sk-label-container {text-align: center;}#sk-container-id-1 div.sk-container {/* jupyter's `normalize.less` sets `[hidden] { display: none; }` but bootstrap.min.css set `[hidden] { display: none !important; }` so we also need the `!important` here to be able to override the default hidden behavior on the sphinx rendered scikit-learn.org. See: https://github.com/scikit-learn/scikit-learn/issues/21755 */display: inline-block !important;position: relative;}#sk-container-id-1 div.sk-text-repr-fallback {display: none;}</style><div id=\"sk-container-id-1\" class=\"sk-top-container\"><div class=\"sk-text-repr-fallback\"><pre>RandomForestClassifier(min_samples_leaf=10, n_estimators=125, n_jobs=-1,\n",
       "                       random_state=42)</pre><b>In a Jupyter environment, please rerun this cell to show the HTML representation or trust the notebook. <br />On GitHub, the HTML representation is unable to render, please try loading this page with nbviewer.org.</b></div><div class=\"sk-container\" hidden><div class=\"sk-item\"><div class=\"sk-estimator sk-toggleable\"><input class=\"sk-toggleable__control sk-hidden--visually\" id=\"sk-estimator-id-1\" type=\"checkbox\" checked><label for=\"sk-estimator-id-1\" class=\"sk-toggleable__label sk-toggleable__label-arrow\">RandomForestClassifier</label><div class=\"sk-toggleable__content\"><pre>RandomForestClassifier(min_samples_leaf=10, n_estimators=125, n_jobs=-1,\n",
       "                       random_state=42)</pre></div></div></div></div></div>"
      ],
      "text/plain": [
       "RandomForestClassifier(min_samples_leaf=10, n_estimators=125, n_jobs=-1,\n",
       "                       random_state=42)"
      ]
     },
     "execution_count": 8,
     "metadata": {},
     "output_type": "execute_result"
    }
   ],
   "source": [
    "from sklearn.ensemble import RandomForestClassifier\n",
    "\n",
    "# Training classifier\n",
    "rf_classifier = RandomForestClassifier(n_estimators=125, # 500\n",
    "                                    min_samples_leaf=10, #300\n",
    "                                    random_state=42,\n",
    "                                    n_jobs=-1)\n",
    "\n",
    "rf_classifier.fit(X_train[feature_cols], y_train)"
   ]
  },
  {
   "cell_type": "code",
   "execution_count": 9,
   "id": "5b421968",
   "metadata": {
    "execution": {
     "iopub.execute_input": "2023-09-28T08:46:15.977400Z",
     "iopub.status.busy": "2023-09-28T08:46:15.976922Z",
     "iopub.status.idle": "2023-09-28T09:06:27.431986Z",
     "shell.execute_reply": "2023-09-28T09:06:27.430643Z"
    },
    "papermill": {
     "duration": 1211.489176,
     "end_time": "2023-09-28T09:06:27.453133",
     "exception": false,
     "start_time": "2023-09-28T08:46:15.963957",
     "status": "completed"
    },
    "tags": []
   },
   "outputs": [
    {
     "name": "stderr",
     "output_type": "stream",
     "text": [
      "100%|██████████| 81/81 [19:39<00:00, 14.56s/it]\n"
     ]
    },
    {
     "name": "stdout",
     "output_type": "stream",
     "text": [
      "Random forest score: 0.2748166226699063\n"
     ]
    }
   ],
   "source": [
    "# Checking performance on validation set\n",
    "rf_submission = get_events(val_data, rf_classifier)\n",
    "\n",
    "print(f\"Random forest score: {score(val_solution, rf_submission, tolerances, **column_names)}\")"
   ]
  },
  {
   "cell_type": "code",
   "execution_count": 10,
   "id": "6a7e837b",
   "metadata": {
    "execution": {
     "iopub.execute_input": "2023-09-28T09:06:27.492605Z",
     "iopub.status.busy": "2023-09-28T09:06:27.492195Z",
     "iopub.status.idle": "2023-09-28T09:06:27.732333Z",
     "shell.execute_reply": "2023-09-28T09:06:27.730529Z"
    },
    "papermill": {
     "duration": 0.264479,
     "end_time": "2023-09-28T09:06:27.736410",
     "exception": false,
     "start_time": "2023-09-28T09:06:27.471931",
     "status": "completed"
    },
    "tags": []
   },
   "outputs": [],
   "source": [
    "# Saving classifier \n",
    "import pickle\n",
    "with open('rf_classifier_5m_8h.pkl', 'wb') as f:\n",
    "    pickle.dump(rf_classifier, f)\n",
    "\n",
    "#with open('rf_classifier.pkl', 'rb') as f:\n",
    "#    rf_classifier = pickle.load(f)"
   ]
  },
  {
   "cell_type": "markdown",
   "id": "bed58c71",
   "metadata": {
    "papermill": {
     "duration": 0.025146,
     "end_time": "2023-09-28T09:06:27.781935",
     "exception": false,
     "start_time": "2023-09-28T09:06:27.756789",
     "status": "completed"
    },
    "tags": []
   },
   "source": [
    "### Training and validating gradient boost"
   ]
  },
  {
   "cell_type": "code",
   "execution_count": 11,
   "id": "f41a0456",
   "metadata": {
    "execution": {
     "iopub.execute_input": "2023-09-28T09:06:27.829921Z",
     "iopub.status.busy": "2023-09-28T09:06:27.829440Z",
     "iopub.status.idle": "2023-09-28T09:06:27.837350Z",
     "shell.execute_reply": "2023-09-28T09:06:27.836284Z"
    },
    "papermill": {
     "duration": 0.034847,
     "end_time": "2023-09-28T09:06:27.839917",
     "exception": false,
     "start_time": "2023-09-28T09:06:27.805070",
     "status": "completed"
    },
    "tags": []
   },
   "outputs": [
    {
     "data": {
      "text/plain": [
       "'# With SKL\\nfrom sklearn.ensemble import GradientBoostingClassifier\\n\\ngb_classifier = GradientBoostingClassifier(n_estimators=100, learning_rate=0.05, max_depth=10, random_state=42)\\ngb_classifier.fit(X_train[feature_cols], y_train)'"
      ]
     },
     "execution_count": 11,
     "metadata": {},
     "output_type": "execute_result"
    }
   ],
   "source": [
    "'''# With SKL\n",
    "from sklearn.ensemble import GradientBoostingClassifier\n",
    "\n",
    "gb_classifier = GradientBoostingClassifier(n_estimators=100, learning_rate=0.05, max_depth=10, random_state=42)\n",
    "gb_classifier.fit(X_train[feature_cols], y_train)'''"
   ]
  },
  {
   "cell_type": "code",
   "execution_count": 12,
   "id": "ae821141",
   "metadata": {
    "execution": {
     "iopub.execute_input": "2023-09-28T09:06:27.879069Z",
     "iopub.status.busy": "2023-09-28T09:06:27.878596Z",
     "iopub.status.idle": "2023-09-28T09:06:27.885302Z",
     "shell.execute_reply": "2023-09-28T09:06:27.884462Z"
    },
    "papermill": {
     "duration": 0.028968,
     "end_time": "2023-09-28T09:06:27.887429",
     "exception": false,
     "start_time": "2023-09-28T09:06:27.858461",
     "status": "completed"
    },
    "tags": []
   },
   "outputs": [
    {
     "data": {
      "text/plain": [
       "\"# Plotting feature importances\\npx.bar(x=feature_cols, \\n       y=gb_classifier.feature_importances_,\\n       title='Gradient boosting feature importances'\\n      )\""
      ]
     },
     "execution_count": 12,
     "metadata": {},
     "output_type": "execute_result"
    }
   ],
   "source": [
    "'''# Plotting feature importances\n",
    "px.bar(x=feature_cols, \n",
    "       y=gb_classifier.feature_importances_,\n",
    "       title='Gradient boosting feature importances'\n",
    "      )'''"
   ]
  },
  {
   "cell_type": "code",
   "execution_count": 13,
   "id": "6315bfd7",
   "metadata": {
    "execution": {
     "iopub.execute_input": "2023-09-28T09:06:27.926415Z",
     "iopub.status.busy": "2023-09-28T09:06:27.925965Z",
     "iopub.status.idle": "2023-09-28T09:06:27.933384Z",
     "shell.execute_reply": "2023-09-28T09:06:27.932008Z"
    },
    "papermill": {
     "duration": 0.029627,
     "end_time": "2023-09-28T09:06:27.935607",
     "exception": false,
     "start_time": "2023-09-28T09:06:27.905980",
     "status": "completed"
    },
    "tags": []
   },
   "outputs": [
    {
     "data": {
      "text/plain": [
       "'\\n# Checking performance on validation set\\ngb_submission = get_events(val_data, gb_classifier)\\n\\nprint(f\"Gradient boosting score: {score(val_solution, gb_submission, tolerances, **column_names)}\")\\n'"
      ]
     },
     "execution_count": 13,
     "metadata": {},
     "output_type": "execute_result"
    }
   ],
   "source": [
    "'''\n",
    "# Checking performance on validation set\n",
    "gb_submission = get_events(val_data, gb_classifier)\n",
    "\n",
    "print(f\"Gradient boosting score: {score(val_solution, gb_submission, tolerances, **column_names)}\")\n",
    "'''"
   ]
  },
  {
   "cell_type": "markdown",
   "id": "43165af6",
   "metadata": {
    "papermill": {
     "duration": 0.018548,
     "end_time": "2023-09-28T09:06:27.973196",
     "exception": false,
     "start_time": "2023-09-28T09:06:27.954648",
     "status": "completed"
    },
    "tags": []
   },
   "source": [
    "## Applying to test data"
   ]
  },
  {
   "cell_type": "code",
   "execution_count": 14,
   "id": "c79dd1a9",
   "metadata": {
    "execution": {
     "iopub.execute_input": "2023-09-28T09:06:28.012778Z",
     "iopub.status.busy": "2023-09-28T09:06:28.012193Z",
     "iopub.status.idle": "2023-09-28T09:06:28.022137Z",
     "shell.execute_reply": "2023-09-28T09:06:28.020906Z"
    },
    "papermill": {
     "duration": 0.032901,
     "end_time": "2023-09-28T09:06:28.024808",
     "exception": false,
     "start_time": "2023-09-28T09:06:27.991907",
     "status": "completed"
    },
    "tags": []
   },
   "outputs": [],
   "source": [
    "# Recovering memory\n",
    "del train_data "
   ]
  },
  {
   "cell_type": "code",
   "execution_count": 15,
   "id": "fff0d571",
   "metadata": {
    "execution": {
     "iopub.execute_input": "2023-09-28T09:06:28.064324Z",
     "iopub.status.busy": "2023-09-28T09:06:28.063838Z",
     "iopub.status.idle": "2023-09-28T09:06:28.358157Z",
     "shell.execute_reply": "2023-09-28T09:06:28.356935Z"
    },
    "papermill": {
     "duration": 0.317751,
     "end_time": "2023-09-28T09:06:28.361410",
     "exception": false,
     "start_time": "2023-09-28T09:06:28.043659",
     "status": "completed"
    },
    "tags": []
   },
   "outputs": [
    {
     "name": "stderr",
     "output_type": "stream",
     "text": [
      "100%|██████████| 3/3 [00:00<00:00, 11.34it/s]\n"
     ]
    }
   ],
   "source": [
    "# Getting event predictions for test set and saving submission\n",
    "submission = get_events(test_series.collect(), rf_classifier)\n",
    "submission.to_csv('submission.csv', index=False)"
   ]
  }
 ],
 "metadata": {
  "kernelspec": {
   "display_name": "Python 3",
   "language": "python",
   "name": "python3"
  },
  "language_info": {
   "codemirror_mode": {
    "name": "ipython",
    "version": 3
   },
   "file_extension": ".py",
   "mimetype": "text/x-python",
   "name": "python",
   "nbconvert_exporter": "python",
   "pygments_lexer": "ipython3",
   "version": "3.10.12"
  },
  "papermill": {
   "default_parameters": {},
   "duration": 1922.606897,
   "end_time": "2023-09-28T09:06:30.613742",
   "environment_variables": {},
   "exception": null,
   "input_path": "__notebook__.ipynb",
   "output_path": "__notebook__.ipynb",
   "parameters": {},
   "start_time": "2023-09-28T08:34:28.006845",
   "version": "2.4.0"
  }
 },
 "nbformat": 4,
 "nbformat_minor": 5
}
