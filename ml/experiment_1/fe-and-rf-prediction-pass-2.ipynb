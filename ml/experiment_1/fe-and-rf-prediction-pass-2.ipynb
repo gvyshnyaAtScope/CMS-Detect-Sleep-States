{
 "cells": [
  {
   "cell_type": "markdown",
   "id": "b04a6005",
   "metadata": {
    "papermill": {
     "duration": 0.008024,
     "end_time": "2023-09-25T09:51:51.961112",
     "exception": false,
     "start_time": "2023-09-25T09:51:51.953088",
     "status": "completed"
    },
    "tags": []
   },
   "source": [
    "# Feature Engineering and Random Forest Prediction to Detect Sleep States"
   ]
  },
  {
   "cell_type": "code",
   "execution_count": 1,
   "id": "c4b6cd83",
   "metadata": {
    "_cell_guid": "b1076dfc-b9ad-4769-8c92-a6c4dae69d19",
    "_uuid": "8f2839f25d086af736a60e9eeb907d3b93b6e0e5",
    "execution": {
     "iopub.execute_input": "2023-09-25T09:51:51.978078Z",
     "iopub.status.busy": "2023-09-25T09:51:51.977661Z",
     "iopub.status.idle": "2023-09-25T09:51:54.166158Z",
     "shell.execute_reply": "2023-09-25T09:51:54.164691Z"
    },
    "papermill": {
     "duration": 2.201045,
     "end_time": "2023-09-25T09:51:54.169873",
     "exception": false,
     "start_time": "2023-09-25T09:51:51.968828",
     "status": "completed"
    },
    "tags": []
   },
   "outputs": [],
   "source": [
    "import numpy as np \n",
    "import pandas as pd\n",
    "import matplotlib.pyplot as plt\n",
    "import polars as pl\n",
    "import datetime \n",
    "from tqdm import tqdm\n",
    "\n",
    "import plotly.express as px\n",
    "from plotly.subplots import make_subplots\n",
    "import plotly.graph_objects as go\n",
    "\n",
    "from metric import score # Import event detection ap score function\n",
    "\n",
    "# These are variables to be used by the score function\n",
    "column_names = {\n",
    "    'series_id_column_name': 'series_id',\n",
    "    'time_column_name': 'step',\n",
    "    'event_column_name': 'event',\n",
    "    'score_column_name': 'score',\n",
    "}\n",
    "\n",
    "tolerances = {\n",
    "    'onset': [12, 36, 60, 90, 120, 150, 180, 240, 300, 360], \n",
    "    'wakeup': [12, 36, 60, 90, 120, 150, 180, 240, 300, 360]\n",
    "}"
   ]
  },
  {
   "cell_type": "markdown",
   "id": "a55a21d9",
   "metadata": {
    "papermill": {
     "duration": 0.007237,
     "end_time": "2023-09-25T09:51:54.187481",
     "exception": false,
     "start_time": "2023-09-25T09:51:54.180244",
     "status": "completed"
    },
    "tags": []
   },
   "source": [
    "## Importing data"
   ]
  },
  {
   "cell_type": "code",
   "execution_count": 2,
   "id": "594e4294",
   "metadata": {
    "execution": {
     "iopub.execute_input": "2023-09-25T09:51:54.205359Z",
     "iopub.status.busy": "2023-09-25T09:51:54.204486Z",
     "iopub.status.idle": "2023-09-25T09:51:54.568056Z",
     "shell.execute_reply": "2023-09-25T09:51:54.567056Z"
    },
    "papermill": {
     "duration": 0.375811,
     "end_time": "2023-09-25T09:51:54.570792",
     "exception": false,
     "start_time": "2023-09-25T09:51:54.194981",
     "status": "completed"
    },
    "tags": []
   },
   "outputs": [],
   "source": [
    "# Importing data \n",
    "\n",
    "# Column transformations\n",
    "\n",
    "dt_transforms = [\n",
    "    pl.col('timestamp').str.to_datetime(), \n",
    "    (pl.col('timestamp').str.to_datetime().dt.year()-2000).cast(pl.UInt8).alias('year'), \n",
    "    pl.col('timestamp').str.to_datetime().dt.month().cast(pl.UInt8).alias('month'),\n",
    "    pl.col('timestamp').str.to_datetime().dt.day().cast(pl.UInt8).alias('day'), \n",
    "    pl.col('timestamp').str.to_datetime().dt.hour().cast(pl.UInt8).alias('hour')\n",
    "]\n",
    "\n",
    "data_transforms = [\n",
    "    pl.col('anglez').cast(pl.Int16), # Casting anglez to 16 bit integer\n",
    "    (pl.col('enmo')*1000).cast(pl.UInt16), # Convert enmo to 16 bit uint\n",
    "]\n",
    "\n",
    "train_series = pl.scan_parquet('/kaggle/input/child-mind-institute-detect-sleep-states/train_series.parquet').with_columns(\n",
    "    dt_transforms + data_transforms\n",
    "    )\n",
    "\n",
    "train_events = pl.read_csv('/kaggle/input/child-mind-institute-detect-sleep-states/train_events.csv').with_columns(\n",
    "    dt_transforms\n",
    "    )\n",
    "\n",
    "test_series = pl.scan_parquet('/kaggle/input/child-mind-institute-detect-sleep-states/test_series.parquet').with_columns(\n",
    "    dt_transforms + data_transforms\n",
    "    )\n",
    "\n",
    "# Getting series ids as a list for convenience\n",
    "series_ids = train_events['series_id'].unique(maintain_order=True).to_list()\n",
    "\n",
    "# Removing series with mismatched counts: \n",
    "onset_counts = train_events.filter(pl.col('event')=='onset').group_by('series_id').count().sort('series_id')['count']\n",
    "wakeup_counts = train_events.filter(pl.col('event')=='wakeup').group_by('series_id').count().sort('series_id')['count']\n",
    "\n",
    "counts = pl.DataFrame({'series_id':sorted(series_ids), 'onset_counts':onset_counts, 'wakeup_counts':wakeup_counts})\n",
    "count_mismatches = counts.filter(counts['onset_counts'] != counts['wakeup_counts'])\n",
    "\n",
    "train_series = train_series.filter(~pl.col('series_id').is_in(count_mismatches['series_id']))\n",
    "train_events = train_events.filter(~pl.col('series_id').is_in(count_mismatches['series_id']))\n",
    "\n",
    "# Updating list of series ids, not including series with no non-null values.\n",
    "series_ids = train_events.drop_nulls()['series_id'].unique(maintain_order=True).to_list()"
   ]
  },
  {
   "cell_type": "markdown",
   "id": "669d586e",
   "metadata": {
    "papermill": {
     "duration": 0.007216,
     "end_time": "2023-09-25T09:51:54.586238",
     "exception": false,
     "start_time": "2023-09-25T09:51:54.579022",
     "status": "completed"
    },
    "tags": []
   },
   "source": [
    "## Feature Engineering"
   ]
  },
  {
   "cell_type": "code",
   "execution_count": 3,
   "id": "6d6242f6",
   "metadata": {
    "execution": {
     "iopub.execute_input": "2023-09-25T09:51:54.603031Z",
     "iopub.status.busy": "2023-09-25T09:51:54.602621Z",
     "iopub.status.idle": "2023-09-25T09:51:54.617662Z",
     "shell.execute_reply": "2023-09-25T09:51:54.616506Z"
    },
    "papermill": {
     "duration": 0.026323,
     "end_time": "2023-09-25T09:51:54.620096",
     "exception": false,
     "start_time": "2023-09-25T09:51:54.593773",
     "status": "completed"
    },
    "tags": []
   },
   "outputs": [],
   "source": [
    "features, feature_cols = [pl.col('hour')], ['hour']\n",
    "\n",
    "for mins in [5, 30, 60*2, 60*8] :\n",
    "    features += [\n",
    "        pl.col('enmo').rolling_mean(12 * mins, center=True, min_periods=1).abs().cast(pl.UInt16).alias(f'enmo_{mins}m_mean'),\n",
    "        pl.col('enmo').rolling_max(12 * mins, center=True, min_periods=1).abs().cast(pl.UInt16).alias(f'enmo_{mins}m_max')\n",
    "    ]\n",
    "\n",
    "    feature_cols += [ \n",
    "        f'enmo_{mins}m_mean', f'enmo_{mins}m_max'\n",
    "    ]\n",
    "\n",
    "    # Getting first variations\n",
    "    for var in ['enmo', 'anglez'] :\n",
    "        features += [\n",
    "            (pl.col(var).diff().abs().rolling_mean(12 * mins, center=True, min_periods=1)*10).abs().cast(pl.UInt32).alias(f'{var}_1v_{mins}m_mean'),\n",
    "            (pl.col(var).diff().abs().rolling_max(12 * mins, center=True, min_periods=1)*10).abs().cast(pl.UInt32).alias(f'{var}_1v_{mins}m_max')\n",
    "        ]\n",
    "\n",
    "        feature_cols += [ \n",
    "            f'{var}_1v_{mins}m_mean', f'{var}_1v_{mins}m_max'\n",
    "        ]\n",
    "\n",
    "id_cols = ['series_id', 'step', 'timestamp']\n",
    "\n",
    "train_series = train_series.with_columns(\n",
    "    features\n",
    ").select(id_cols + feature_cols)\n",
    "\n",
    "test_series = test_series.with_columns(\n",
    "    features\n",
    ").select(id_cols + feature_cols)"
   ]
  },
  {
   "cell_type": "code",
   "execution_count": 4,
   "id": "46c15b5e",
   "metadata": {
    "execution": {
     "iopub.execute_input": "2023-09-25T09:51:54.637365Z",
     "iopub.status.busy": "2023-09-25T09:51:54.636723Z",
     "iopub.status.idle": "2023-09-25T09:51:54.649679Z",
     "shell.execute_reply": "2023-09-25T09:51:54.648333Z"
    },
    "papermill": {
     "duration": 0.024936,
     "end_time": "2023-09-25T09:51:54.652569",
     "exception": false,
     "start_time": "2023-09-25T09:51:54.627633",
     "status": "completed"
    },
    "tags": []
   },
   "outputs": [],
   "source": [
    "def make_train_dataset(train_data, train_events, drop_nulls=False) :\n",
    "    \n",
    "    series_ids = train_data['series_id'].unique(maintain_order=True).to_list()\n",
    "    X, y = pl.DataFrame(), pl.DataFrame()\n",
    "    for idx in tqdm(series_ids) : \n",
    "        \n",
    "        # Normalizing sample features\n",
    "        sample = train_data.filter(pl.col('series_id')==idx).with_columns(\n",
    "            [(pl.col(col) / pl.col(col).std()).cast(pl.Float32) for col in feature_cols if col != 'hour']\n",
    "        )\n",
    "        \n",
    "        events = train_events.filter(pl.col('series_id')==idx)\n",
    "        \n",
    "        if drop_nulls : \n",
    "            # Removing datapoints on dates where no data was recorded\n",
    "            sample = sample.filter(\n",
    "                pl.col('timestamp').dt.date().is_in(events['timestamp'].dt.date())\n",
    "            )\n",
    "        \n",
    "        X = X.vstack(sample[id_cols + feature_cols])\n",
    "\n",
    "        onsets = events.filter((pl.col('event') == 'onset') & (pl.col('step') != None))['step'].to_list()\n",
    "        wakeups = events.filter((pl.col('event') == 'wakeup') & (pl.col('step') != None))['step'].to_list()\n",
    "\n",
    "        # NOTE: This will break if there are event series without any recorded onsets or wakeups\n",
    "        y = y.vstack(sample.with_columns(\n",
    "            sum([(onset <= pl.col('step')) & (pl.col('step') <= wakeup) for onset, wakeup in zip(onsets, wakeups)]).cast(pl.Boolean).alias('asleep')\n",
    "            ).select('asleep')\n",
    "            )\n",
    "    \n",
    "    y = y.to_numpy().ravel()\n",
    "    \n",
    "    return X, y"
   ]
  },
  {
   "cell_type": "code",
   "execution_count": 5,
   "id": "bdcd0484",
   "metadata": {
    "execution": {
     "iopub.execute_input": "2023-09-25T09:51:54.669454Z",
     "iopub.status.busy": "2023-09-25T09:51:54.668959Z",
     "iopub.status.idle": "2023-09-25T09:51:54.686238Z",
     "shell.execute_reply": "2023-09-25T09:51:54.685105Z"
    },
    "papermill": {
     "duration": 0.028717,
     "end_time": "2023-09-25T09:51:54.688854",
     "exception": false,
     "start_time": "2023-09-25T09:51:54.660137",
     "status": "completed"
    },
    "tags": []
   },
   "outputs": [],
   "source": [
    "def get_events(series, classifier) :\n",
    "    '''\n",
    "    Takes a time series and a classifier and returns a formatted submission dataframe.\n",
    "    '''\n",
    "    \n",
    "    series_ids = series['series_id'].unique(maintain_order=True).to_list()\n",
    "    events = pl.DataFrame(schema={'series_id':str, 'step':int, 'event':str, 'score':float})\n",
    "\n",
    "    for idx in tqdm(series_ids) : \n",
    "\n",
    "        # Collecting sample and normalizing features\n",
    "        scale_cols = [col for col in feature_cols if (col != 'hour') & (series[col].std() !=0)]\n",
    "        X = series.filter(pl.col('series_id') == idx).select(id_cols + feature_cols).with_columns(\n",
    "            [(pl.col(col) / series[col].std()).cast(pl.Float32) for col in scale_cols]\n",
    "        )\n",
    "\n",
    "        # Applying classifier to get predictions and scores\n",
    "        preds, probs = classifier.predict(X[feature_cols]), classifier.predict_proba(X[feature_cols])[:, 1]\n",
    "\n",
    "        #NOTE: Considered using rolling max to get sleep periods excluding <30 min interruptions, but ended up decreasing performance\n",
    "        X = X.with_columns(\n",
    "            pl.lit(preds).cast(pl.Int8).alias('prediction'), \n",
    "            pl.lit(probs).alias('probability')\n",
    "                        )\n",
    "        \n",
    "        # Getting predicted onset and wakeup time steps\n",
    "        pred_onsets = X.filter(X['prediction'].diff() > 0)['step'].to_list()\n",
    "        pred_wakeups = X.filter(X['prediction'].diff() < 0)['step'].to_list()\n",
    "        \n",
    "        if len(pred_onsets) > 0 : \n",
    "            \n",
    "            # Ensuring all predicted sleep periods begin and end\n",
    "            if min(pred_wakeups) < min(pred_onsets) : \n",
    "                pred_wakeups = pred_wakeups[1:]\n",
    "\n",
    "            if max(pred_onsets) > max(pred_wakeups) :\n",
    "                pred_onsets = pred_onsets[:-1]\n",
    "\n",
    "            # Keeping sleep periods longer than 30 minutes\n",
    "            sleep_periods = [(onset, wakeup) for onset, wakeup in zip(pred_onsets, pred_wakeups) if wakeup - onset >= 12 * 30]\n",
    "\n",
    "            for onset, wakeup in sleep_periods :\n",
    "                # Scoring using mean probability over period\n",
    "                score = X.filter((pl.col('step') >= onset) & (pl.col('step') <= wakeup))['probability'].mean()\n",
    "\n",
    "                # Adding sleep event to dataframe\n",
    "                events = events.vstack(pl.DataFrame().with_columns(\n",
    "                    pl.Series([idx, idx]).alias('series_id'), \n",
    "                    pl.Series([onset, wakeup]).alias('step'),\n",
    "                    pl.Series(['onset', 'wakeup']).alias('event'),\n",
    "                    pl.Series([score, score]).alias('score')\n",
    "                ))\n",
    "\n",
    "    # Adding row id column\n",
    "    events = events.to_pandas().reset_index().rename(columns={'index':'row_id'})\n",
    "\n",
    "    return events"
   ]
  },
  {
   "cell_type": "markdown",
   "id": "019c7b1a",
   "metadata": {
    "papermill": {
     "duration": 0.007089,
     "end_time": "2023-09-25T09:51:54.703633",
     "exception": false,
     "start_time": "2023-09-25T09:51:54.696544",
     "status": "completed"
    },
    "tags": []
   },
   "source": [
    "## Training Models"
   ]
  },
  {
   "cell_type": "code",
   "execution_count": 6,
   "id": "218eb1b5",
   "metadata": {
    "execution": {
     "iopub.execute_input": "2023-09-25T09:51:54.720907Z",
     "iopub.status.busy": "2023-09-25T09:51:54.719742Z",
     "iopub.status.idle": "2023-09-25T09:55:09.382677Z",
     "shell.execute_reply": "2023-09-25T09:55:09.381064Z"
    },
    "papermill": {
     "duration": 194.675054,
     "end_time": "2023-09-25T09:55:09.385991",
     "exception": false,
     "start_time": "2023-09-25T09:51:54.710937",
     "status": "completed"
    },
    "tags": []
   },
   "outputs": [],
   "source": [
    "'''\n",
    "from sklearn.model_selection import train_test_split\n",
    "\n",
    "train_ids, val_ids = train_test_split(series_ids, train_size=0.7, random_state=42)\n",
    "\n",
    "# We will collect datapoints at 10 minute intervals for training for validating\n",
    "train_data = train_series.filter(pl.col('series_id').is_in(train_ids)).take_every(12 * 10).collect()\n",
    "\n",
    "val_data = train_series.filter(pl.col('series_id').is_in(val_ids)).collect()\n",
    "val_solution = train_events.filter(pl.col('series_id').is_in(val_ids)).select(['series_id', 'event', 'step']).to_pandas()\n",
    "'''\n",
    "# Collecting datapoints at every 5 minutes\n",
    "train_data = train_series.filter(pl.col('series_id').is_in(series_ids)).take_every(12 * 5).collect()\n"
   ]
  },
  {
   "cell_type": "code",
   "execution_count": 7,
   "id": "da5b3b18",
   "metadata": {
    "execution": {
     "iopub.execute_input": "2023-09-25T09:55:09.403525Z",
     "iopub.status.busy": "2023-09-25T09:55:09.403059Z",
     "iopub.status.idle": "2023-09-25T09:55:17.048734Z",
     "shell.execute_reply": "2023-09-25T09:55:17.047512Z"
    },
    "papermill": {
     "duration": 7.657527,
     "end_time": "2023-09-25T09:55:17.051396",
     "exception": false,
     "start_time": "2023-09-25T09:55:09.393869",
     "status": "completed"
    },
    "tags": []
   },
   "outputs": [
    {
     "name": "stderr",
     "output_type": "stream",
     "text": [
      "100%|██████████| 269/269 [00:07<00:00, 35.49it/s]\n"
     ]
    }
   ],
   "source": [
    "# Creating train dataset\n",
    "X_train, y_train = make_train_dataset(train_data, train_events)"
   ]
  },
  {
   "cell_type": "markdown",
   "id": "f85fe10f",
   "metadata": {
    "papermill": {
     "duration": 0.014276,
     "end_time": "2023-09-25T09:55:17.079624",
     "exception": false,
     "start_time": "2023-09-25T09:55:17.065348",
     "status": "completed"
    },
    "tags": []
   },
   "source": [
    "### Training and validating random forest"
   ]
  },
  {
   "cell_type": "code",
   "execution_count": 8,
   "id": "ef303102",
   "metadata": {
    "execution": {
     "iopub.execute_input": "2023-09-25T09:55:17.109506Z",
     "iopub.status.busy": "2023-09-25T09:55:17.109053Z",
     "iopub.status.idle": "2023-09-25T10:49:19.421351Z",
     "shell.execute_reply": "2023-09-25T10:49:19.419348Z"
    },
    "papermill": {
     "duration": 3242.345972,
     "end_time": "2023-09-25T10:49:19.439855",
     "exception": false,
     "start_time": "2023-09-25T09:55:17.093883",
     "status": "completed"
    },
    "tags": []
   },
   "outputs": [
    {
     "data": {
      "text/html": [
       "<style>#sk-container-id-1 {color: black;background-color: white;}#sk-container-id-1 pre{padding: 0;}#sk-container-id-1 div.sk-toggleable {background-color: white;}#sk-container-id-1 label.sk-toggleable__label {cursor: pointer;display: block;width: 100%;margin-bottom: 0;padding: 0.3em;box-sizing: border-box;text-align: center;}#sk-container-id-1 label.sk-toggleable__label-arrow:before {content: \"▸\";float: left;margin-right: 0.25em;color: #696969;}#sk-container-id-1 label.sk-toggleable__label-arrow:hover:before {color: black;}#sk-container-id-1 div.sk-estimator:hover label.sk-toggleable__label-arrow:before {color: black;}#sk-container-id-1 div.sk-toggleable__content {max-height: 0;max-width: 0;overflow: hidden;text-align: left;background-color: #f0f8ff;}#sk-container-id-1 div.sk-toggleable__content pre {margin: 0.2em;color: black;border-radius: 0.25em;background-color: #f0f8ff;}#sk-container-id-1 input.sk-toggleable__control:checked~div.sk-toggleable__content {max-height: 200px;max-width: 100%;overflow: auto;}#sk-container-id-1 input.sk-toggleable__control:checked~label.sk-toggleable__label-arrow:before {content: \"▾\";}#sk-container-id-1 div.sk-estimator input.sk-toggleable__control:checked~label.sk-toggleable__label {background-color: #d4ebff;}#sk-container-id-1 div.sk-label input.sk-toggleable__control:checked~label.sk-toggleable__label {background-color: #d4ebff;}#sk-container-id-1 input.sk-hidden--visually {border: 0;clip: rect(1px 1px 1px 1px);clip: rect(1px, 1px, 1px, 1px);height: 1px;margin: -1px;overflow: hidden;padding: 0;position: absolute;width: 1px;}#sk-container-id-1 div.sk-estimator {font-family: monospace;background-color: #f0f8ff;border: 1px dotted black;border-radius: 0.25em;box-sizing: border-box;margin-bottom: 0.5em;}#sk-container-id-1 div.sk-estimator:hover {background-color: #d4ebff;}#sk-container-id-1 div.sk-parallel-item::after {content: \"\";width: 100%;border-bottom: 1px solid gray;flex-grow: 1;}#sk-container-id-1 div.sk-label:hover label.sk-toggleable__label {background-color: #d4ebff;}#sk-container-id-1 div.sk-serial::before {content: \"\";position: absolute;border-left: 1px solid gray;box-sizing: border-box;top: 0;bottom: 0;left: 50%;z-index: 0;}#sk-container-id-1 div.sk-serial {display: flex;flex-direction: column;align-items: center;background-color: white;padding-right: 0.2em;padding-left: 0.2em;position: relative;}#sk-container-id-1 div.sk-item {position: relative;z-index: 1;}#sk-container-id-1 div.sk-parallel {display: flex;align-items: stretch;justify-content: center;background-color: white;position: relative;}#sk-container-id-1 div.sk-item::before, #sk-container-id-1 div.sk-parallel-item::before {content: \"\";position: absolute;border-left: 1px solid gray;box-sizing: border-box;top: 0;bottom: 0;left: 50%;z-index: -1;}#sk-container-id-1 div.sk-parallel-item {display: flex;flex-direction: column;z-index: 1;position: relative;background-color: white;}#sk-container-id-1 div.sk-parallel-item:first-child::after {align-self: flex-end;width: 50%;}#sk-container-id-1 div.sk-parallel-item:last-child::after {align-self: flex-start;width: 50%;}#sk-container-id-1 div.sk-parallel-item:only-child::after {width: 0;}#sk-container-id-1 div.sk-dashed-wrapped {border: 1px dashed gray;margin: 0 0.4em 0.5em 0.4em;box-sizing: border-box;padding-bottom: 0.4em;background-color: white;}#sk-container-id-1 div.sk-label label {font-family: monospace;font-weight: bold;display: inline-block;line-height: 1.2em;}#sk-container-id-1 div.sk-label-container {text-align: center;}#sk-container-id-1 div.sk-container {/* jupyter's `normalize.less` sets `[hidden] { display: none; }` but bootstrap.min.css set `[hidden] { display: none !important; }` so we also need the `!important` here to be able to override the default hidden behavior on the sphinx rendered scikit-learn.org. See: https://github.com/scikit-learn/scikit-learn/issues/21755 */display: inline-block !important;position: relative;}#sk-container-id-1 div.sk-text-repr-fallback {display: none;}</style><div id=\"sk-container-id-1\" class=\"sk-top-container\"><div class=\"sk-text-repr-fallback\"><pre>RandomForestClassifier(min_samples_leaf=300, n_estimators=500, n_jobs=-1,\n",
       "                       random_state=42)</pre><b>In a Jupyter environment, please rerun this cell to show the HTML representation or trust the notebook. <br />On GitHub, the HTML representation is unable to render, please try loading this page with nbviewer.org.</b></div><div class=\"sk-container\" hidden><div class=\"sk-item\"><div class=\"sk-estimator sk-toggleable\"><input class=\"sk-toggleable__control sk-hidden--visually\" id=\"sk-estimator-id-1\" type=\"checkbox\" checked><label for=\"sk-estimator-id-1\" class=\"sk-toggleable__label sk-toggleable__label-arrow\">RandomForestClassifier</label><div class=\"sk-toggleable__content\"><pre>RandomForestClassifier(min_samples_leaf=300, n_estimators=500, n_jobs=-1,\n",
       "                       random_state=42)</pre></div></div></div></div></div>"
      ],
      "text/plain": [
       "RandomForestClassifier(min_samples_leaf=300, n_estimators=500, n_jobs=-1,\n",
       "                       random_state=42)"
      ]
     },
     "execution_count": 8,
     "metadata": {},
     "output_type": "execute_result"
    }
   ],
   "source": [
    "from sklearn.ensemble import RandomForestClassifier\n",
    "\n",
    "# Training classifier\n",
    "rf_classifier = RandomForestClassifier(n_estimators=500,\n",
    "                                    min_samples_leaf=300,\n",
    "                                    random_state=42,\n",
    "                                    n_jobs=-1)\n",
    "\n",
    "rf_classifier.fit(X_train[feature_cols], y_train)"
   ]
  },
  {
   "cell_type": "code",
   "execution_count": 9,
   "id": "963b0df1",
   "metadata": {
    "execution": {
     "iopub.execute_input": "2023-09-25T10:49:19.471315Z",
     "iopub.status.busy": "2023-09-25T10:49:19.470834Z",
     "iopub.status.idle": "2023-09-25T10:49:21.789343Z",
     "shell.execute_reply": "2023-09-25T10:49:21.788203Z"
    },
    "papermill": {
     "duration": 2.337884,
     "end_time": "2023-09-25T10:49:21.791936",
     "exception": false,
     "start_time": "2023-09-25T10:49:19.454052",
     "status": "completed"
    },
    "tags": []
   },
   "outputs": [
    {
     "data": {
      "text/html": [
       "        <script type=\"text/javascript\">\n",
       "        window.PlotlyConfig = {MathJaxConfig: 'local'};\n",
       "        if (window.MathJax && window.MathJax.Hub && window.MathJax.Hub.Config) {window.MathJax.Hub.Config({SVG: {font: \"STIX-Web\"}});}\n",
       "        if (typeof require !== 'undefined') {\n",
       "        require.undef(\"plotly\");\n",
       "        requirejs.config({\n",
       "            paths: {\n",
       "                'plotly': ['https://cdn.plot.ly/plotly-2.24.1.min']\n",
       "            }\n",
       "        });\n",
       "        require(['plotly'], function(Plotly) {\n",
       "            window._Plotly = Plotly;\n",
       "        });\n",
       "        }\n",
       "        </script>\n",
       "        "
      ]
     },
     "metadata": {},
     "output_type": "display_data"
    },
    {
     "data": {
      "text/html": [
       "<div>                            <div id=\"3a8b2f9b-fa55-43ff-b951-98e276ee9158\" class=\"plotly-graph-div\" style=\"height:525px; width:100%;\"></div>            <script type=\"text/javascript\">                require([\"plotly\"], function(Plotly) {                    window.PLOTLYENV=window.PLOTLYENV || {};                                    if (document.getElementById(\"3a8b2f9b-fa55-43ff-b951-98e276ee9158\")) {                    Plotly.newPlot(                        \"3a8b2f9b-fa55-43ff-b951-98e276ee9158\",                        [{\"alignmentgroup\":\"True\",\"hovertemplate\":\"x=%{x}\\u003cbr\\u003ey=%{y}\\u003cextra\\u003e\\u003c\\u002fextra\\u003e\",\"legendgroup\":\"\",\"marker\":{\"color\":\"#636efa\",\"pattern\":{\"shape\":\"\"}},\"name\":\"\",\"offsetgroup\":\"\",\"orientation\":\"v\",\"showlegend\":false,\"textposition\":\"auto\",\"x\":[\"hour\",\"enmo_5m_mean\",\"enmo_5m_max\",\"enmo_1v_5m_mean\",\"enmo_1v_5m_max\",\"anglez_1v_5m_mean\",\"anglez_1v_5m_max\",\"enmo_30m_mean\",\"enmo_30m_max\",\"enmo_1v_30m_mean\",\"enmo_1v_30m_max\",\"anglez_1v_30m_mean\",\"anglez_1v_30m_max\",\"enmo_120m_mean\",\"enmo_120m_max\",\"enmo_1v_120m_mean\",\"enmo_1v_120m_max\",\"anglez_1v_120m_mean\",\"anglez_1v_120m_max\",\"enmo_480m_mean\",\"enmo_480m_max\",\"enmo_1v_480m_mean\",\"enmo_1v_480m_max\",\"anglez_1v_480m_mean\",\"anglez_1v_480m_max\"],\"xaxis\":\"x\",\"y\":[0.03171105239264276,0.006255492084157785,0.00846241927992824,0.051676789077710346,0.018383369743555,0.04565472795129935,0.03294639836551348,0.022281910368475426,0.003324709263115323,0.15092778773889187,0.004148063196328252,0.10527102032949191,0.033899785032830795,0.03430986078175274,0.012508084437885342,0.12241987383351897,0.01985068679077028,0.07496819602727053,0.10865109570118892,0.015406118668345566,0.0027599591943846835,0.006252115861006188,0.005069302361078352,0.0127638703107972,0.07009731120806076],\"yaxis\":\"y\",\"type\":\"bar\"}],                        {\"template\":{\"data\":{\"histogram2dcontour\":[{\"type\":\"histogram2dcontour\",\"colorbar\":{\"outlinewidth\":0,\"ticks\":\"\"},\"colorscale\":[[0.0,\"#0d0887\"],[0.1111111111111111,\"#46039f\"],[0.2222222222222222,\"#7201a8\"],[0.3333333333333333,\"#9c179e\"],[0.4444444444444444,\"#bd3786\"],[0.5555555555555556,\"#d8576b\"],[0.6666666666666666,\"#ed7953\"],[0.7777777777777778,\"#fb9f3a\"],[0.8888888888888888,\"#fdca26\"],[1.0,\"#f0f921\"]]}],\"choropleth\":[{\"type\":\"choropleth\",\"colorbar\":{\"outlinewidth\":0,\"ticks\":\"\"}}],\"histogram2d\":[{\"type\":\"histogram2d\",\"colorbar\":{\"outlinewidth\":0,\"ticks\":\"\"},\"colorscale\":[[0.0,\"#0d0887\"],[0.1111111111111111,\"#46039f\"],[0.2222222222222222,\"#7201a8\"],[0.3333333333333333,\"#9c179e\"],[0.4444444444444444,\"#bd3786\"],[0.5555555555555556,\"#d8576b\"],[0.6666666666666666,\"#ed7953\"],[0.7777777777777778,\"#fb9f3a\"],[0.8888888888888888,\"#fdca26\"],[1.0,\"#f0f921\"]]}],\"heatmap\":[{\"type\":\"heatmap\",\"colorbar\":{\"outlinewidth\":0,\"ticks\":\"\"},\"colorscale\":[[0.0,\"#0d0887\"],[0.1111111111111111,\"#46039f\"],[0.2222222222222222,\"#7201a8\"],[0.3333333333333333,\"#9c179e\"],[0.4444444444444444,\"#bd3786\"],[0.5555555555555556,\"#d8576b\"],[0.6666666666666666,\"#ed7953\"],[0.7777777777777778,\"#fb9f3a\"],[0.8888888888888888,\"#fdca26\"],[1.0,\"#f0f921\"]]}],\"heatmapgl\":[{\"type\":\"heatmapgl\",\"colorbar\":{\"outlinewidth\":0,\"ticks\":\"\"},\"colorscale\":[[0.0,\"#0d0887\"],[0.1111111111111111,\"#46039f\"],[0.2222222222222222,\"#7201a8\"],[0.3333333333333333,\"#9c179e\"],[0.4444444444444444,\"#bd3786\"],[0.5555555555555556,\"#d8576b\"],[0.6666666666666666,\"#ed7953\"],[0.7777777777777778,\"#fb9f3a\"],[0.8888888888888888,\"#fdca26\"],[1.0,\"#f0f921\"]]}],\"contourcarpet\":[{\"type\":\"contourcarpet\",\"colorbar\":{\"outlinewidth\":0,\"ticks\":\"\"}}],\"contour\":[{\"type\":\"contour\",\"colorbar\":{\"outlinewidth\":0,\"ticks\":\"\"},\"colorscale\":[[0.0,\"#0d0887\"],[0.1111111111111111,\"#46039f\"],[0.2222222222222222,\"#7201a8\"],[0.3333333333333333,\"#9c179e\"],[0.4444444444444444,\"#bd3786\"],[0.5555555555555556,\"#d8576b\"],[0.6666666666666666,\"#ed7953\"],[0.7777777777777778,\"#fb9f3a\"],[0.8888888888888888,\"#fdca26\"],[1.0,\"#f0f921\"]]}],\"surface\":[{\"type\":\"surface\",\"colorbar\":{\"outlinewidth\":0,\"ticks\":\"\"},\"colorscale\":[[0.0,\"#0d0887\"],[0.1111111111111111,\"#46039f\"],[0.2222222222222222,\"#7201a8\"],[0.3333333333333333,\"#9c179e\"],[0.4444444444444444,\"#bd3786\"],[0.5555555555555556,\"#d8576b\"],[0.6666666666666666,\"#ed7953\"],[0.7777777777777778,\"#fb9f3a\"],[0.8888888888888888,\"#fdca26\"],[1.0,\"#f0f921\"]]}],\"mesh3d\":[{\"type\":\"mesh3d\",\"colorbar\":{\"outlinewidth\":0,\"ticks\":\"\"}}],\"scatter\":[{\"fillpattern\":{\"fillmode\":\"overlay\",\"size\":10,\"solidity\":0.2},\"type\":\"scatter\"}],\"parcoords\":[{\"type\":\"parcoords\",\"line\":{\"colorbar\":{\"outlinewidth\":0,\"ticks\":\"\"}}}],\"scatterpolargl\":[{\"type\":\"scatterpolargl\",\"marker\":{\"colorbar\":{\"outlinewidth\":0,\"ticks\":\"\"}}}],\"bar\":[{\"error_x\":{\"color\":\"#2a3f5f\"},\"error_y\":{\"color\":\"#2a3f5f\"},\"marker\":{\"line\":{\"color\":\"#E5ECF6\",\"width\":0.5},\"pattern\":{\"fillmode\":\"overlay\",\"size\":10,\"solidity\":0.2}},\"type\":\"bar\"}],\"scattergeo\":[{\"type\":\"scattergeo\",\"marker\":{\"colorbar\":{\"outlinewidth\":0,\"ticks\":\"\"}}}],\"scatterpolar\":[{\"type\":\"scatterpolar\",\"marker\":{\"colorbar\":{\"outlinewidth\":0,\"ticks\":\"\"}}}],\"histogram\":[{\"marker\":{\"pattern\":{\"fillmode\":\"overlay\",\"size\":10,\"solidity\":0.2}},\"type\":\"histogram\"}],\"scattergl\":[{\"type\":\"scattergl\",\"marker\":{\"colorbar\":{\"outlinewidth\":0,\"ticks\":\"\"}}}],\"scatter3d\":[{\"type\":\"scatter3d\",\"line\":{\"colorbar\":{\"outlinewidth\":0,\"ticks\":\"\"}},\"marker\":{\"colorbar\":{\"outlinewidth\":0,\"ticks\":\"\"}}}],\"scattermapbox\":[{\"type\":\"scattermapbox\",\"marker\":{\"colorbar\":{\"outlinewidth\":0,\"ticks\":\"\"}}}],\"scatterternary\":[{\"type\":\"scatterternary\",\"marker\":{\"colorbar\":{\"outlinewidth\":0,\"ticks\":\"\"}}}],\"scattercarpet\":[{\"type\":\"scattercarpet\",\"marker\":{\"colorbar\":{\"outlinewidth\":0,\"ticks\":\"\"}}}],\"carpet\":[{\"aaxis\":{\"endlinecolor\":\"#2a3f5f\",\"gridcolor\":\"white\",\"linecolor\":\"white\",\"minorgridcolor\":\"white\",\"startlinecolor\":\"#2a3f5f\"},\"baxis\":{\"endlinecolor\":\"#2a3f5f\",\"gridcolor\":\"white\",\"linecolor\":\"white\",\"minorgridcolor\":\"white\",\"startlinecolor\":\"#2a3f5f\"},\"type\":\"carpet\"}],\"table\":[{\"cells\":{\"fill\":{\"color\":\"#EBF0F8\"},\"line\":{\"color\":\"white\"}},\"header\":{\"fill\":{\"color\":\"#C8D4E3\"},\"line\":{\"color\":\"white\"}},\"type\":\"table\"}],\"barpolar\":[{\"marker\":{\"line\":{\"color\":\"#E5ECF6\",\"width\":0.5},\"pattern\":{\"fillmode\":\"overlay\",\"size\":10,\"solidity\":0.2}},\"type\":\"barpolar\"}],\"pie\":[{\"automargin\":true,\"type\":\"pie\"}]},\"layout\":{\"autotypenumbers\":\"strict\",\"colorway\":[\"#636efa\",\"#EF553B\",\"#00cc96\",\"#ab63fa\",\"#FFA15A\",\"#19d3f3\",\"#FF6692\",\"#B6E880\",\"#FF97FF\",\"#FECB52\"],\"font\":{\"color\":\"#2a3f5f\"},\"hovermode\":\"closest\",\"hoverlabel\":{\"align\":\"left\"},\"paper_bgcolor\":\"white\",\"plot_bgcolor\":\"#E5ECF6\",\"polar\":{\"bgcolor\":\"#E5ECF6\",\"angularaxis\":{\"gridcolor\":\"white\",\"linecolor\":\"white\",\"ticks\":\"\"},\"radialaxis\":{\"gridcolor\":\"white\",\"linecolor\":\"white\",\"ticks\":\"\"}},\"ternary\":{\"bgcolor\":\"#E5ECF6\",\"aaxis\":{\"gridcolor\":\"white\",\"linecolor\":\"white\",\"ticks\":\"\"},\"baxis\":{\"gridcolor\":\"white\",\"linecolor\":\"white\",\"ticks\":\"\"},\"caxis\":{\"gridcolor\":\"white\",\"linecolor\":\"white\",\"ticks\":\"\"}},\"coloraxis\":{\"colorbar\":{\"outlinewidth\":0,\"ticks\":\"\"}},\"colorscale\":{\"sequential\":[[0.0,\"#0d0887\"],[0.1111111111111111,\"#46039f\"],[0.2222222222222222,\"#7201a8\"],[0.3333333333333333,\"#9c179e\"],[0.4444444444444444,\"#bd3786\"],[0.5555555555555556,\"#d8576b\"],[0.6666666666666666,\"#ed7953\"],[0.7777777777777778,\"#fb9f3a\"],[0.8888888888888888,\"#fdca26\"],[1.0,\"#f0f921\"]],\"sequentialminus\":[[0.0,\"#0d0887\"],[0.1111111111111111,\"#46039f\"],[0.2222222222222222,\"#7201a8\"],[0.3333333333333333,\"#9c179e\"],[0.4444444444444444,\"#bd3786\"],[0.5555555555555556,\"#d8576b\"],[0.6666666666666666,\"#ed7953\"],[0.7777777777777778,\"#fb9f3a\"],[0.8888888888888888,\"#fdca26\"],[1.0,\"#f0f921\"]],\"diverging\":[[0,\"#8e0152\"],[0.1,\"#c51b7d\"],[0.2,\"#de77ae\"],[0.3,\"#f1b6da\"],[0.4,\"#fde0ef\"],[0.5,\"#f7f7f7\"],[0.6,\"#e6f5d0\"],[0.7,\"#b8e186\"],[0.8,\"#7fbc41\"],[0.9,\"#4d9221\"],[1,\"#276419\"]]},\"xaxis\":{\"gridcolor\":\"white\",\"linecolor\":\"white\",\"ticks\":\"\",\"title\":{\"standoff\":15},\"zerolinecolor\":\"white\",\"automargin\":true,\"zerolinewidth\":2},\"yaxis\":{\"gridcolor\":\"white\",\"linecolor\":\"white\",\"ticks\":\"\",\"title\":{\"standoff\":15},\"zerolinecolor\":\"white\",\"automargin\":true,\"zerolinewidth\":2},\"scene\":{\"xaxis\":{\"backgroundcolor\":\"#E5ECF6\",\"gridcolor\":\"white\",\"linecolor\":\"white\",\"showbackground\":true,\"ticks\":\"\",\"zerolinecolor\":\"white\",\"gridwidth\":2},\"yaxis\":{\"backgroundcolor\":\"#E5ECF6\",\"gridcolor\":\"white\",\"linecolor\":\"white\",\"showbackground\":true,\"ticks\":\"\",\"zerolinecolor\":\"white\",\"gridwidth\":2},\"zaxis\":{\"backgroundcolor\":\"#E5ECF6\",\"gridcolor\":\"white\",\"linecolor\":\"white\",\"showbackground\":true,\"ticks\":\"\",\"zerolinecolor\":\"white\",\"gridwidth\":2}},\"shapedefaults\":{\"line\":{\"color\":\"#2a3f5f\"}},\"annotationdefaults\":{\"arrowcolor\":\"#2a3f5f\",\"arrowhead\":0,\"arrowwidth\":1},\"geo\":{\"bgcolor\":\"white\",\"landcolor\":\"#E5ECF6\",\"subunitcolor\":\"white\",\"showland\":true,\"showlakes\":true,\"lakecolor\":\"white\"},\"title\":{\"x\":0.05},\"mapbox\":{\"style\":\"light\"}}},\"xaxis\":{\"anchor\":\"y\",\"domain\":[0.0,1.0],\"title\":{\"text\":\"x\"}},\"yaxis\":{\"anchor\":\"x\",\"domain\":[0.0,1.0],\"title\":{\"text\":\"y\"}},\"legend\":{\"tracegroupgap\":0},\"title\":{\"text\":\"Random forest feature importances\"},\"barmode\":\"relative\"},                        {\"responsive\": true}                    ).then(function(){\n",
       "                            \n",
       "var gd = document.getElementById('3a8b2f9b-fa55-43ff-b951-98e276ee9158');\n",
       "var x = new MutationObserver(function (mutations, observer) {{\n",
       "        var display = window.getComputedStyle(gd).display;\n",
       "        if (!display || display === 'none') {{\n",
       "            console.log([gd, 'removed!']);\n",
       "            Plotly.purge(gd);\n",
       "            observer.disconnect();\n",
       "        }}\n",
       "}});\n",
       "\n",
       "// Listen for the removal of the full notebook cells\n",
       "var notebookContainer = gd.closest('#notebook-container');\n",
       "if (notebookContainer) {{\n",
       "    x.observe(notebookContainer, {childList: true});\n",
       "}}\n",
       "\n",
       "// Listen for the clearing of the current output cell\n",
       "var outputEl = gd.closest('.output');\n",
       "if (outputEl) {{\n",
       "    x.observe(outputEl, {childList: true});\n",
       "}}\n",
       "\n",
       "                        })                };                });            </script>        </div>"
      ]
     },
     "metadata": {},
     "output_type": "display_data"
    }
   ],
   "source": [
    "# Plotting feature importances\n",
    "px.bar(x=feature_cols, \n",
    "       y=rf_classifier.feature_importances_,\n",
    "       title='Random forest feature importances'\n",
    "      )"
   ]
  },
  {
   "cell_type": "code",
   "execution_count": 10,
   "id": "eccbb7a7",
   "metadata": {
    "execution": {
     "iopub.execute_input": "2023-09-25T10:49:21.824740Z",
     "iopub.status.busy": "2023-09-25T10:49:21.824108Z",
     "iopub.status.idle": "2023-09-25T10:49:21.828321Z",
     "shell.execute_reply": "2023-09-25T10:49:21.827418Z"
    },
    "papermill": {
     "duration": 0.023331,
     "end_time": "2023-09-25T10:49:21.830799",
     "exception": false,
     "start_time": "2023-09-25T10:49:21.807468",
     "status": "completed"
    },
    "tags": []
   },
   "outputs": [],
   "source": [
    "# Checking performance on validation set\n",
    "#rf_submission = get_events(val_data, rf_classifier)\n",
    "\n",
    "#print(f\"Random forest score: {score(val_solution, rf_submission, tolerances, **column_names)}\")"
   ]
  },
  {
   "cell_type": "code",
   "execution_count": 11,
   "id": "441a9c86",
   "metadata": {
    "execution": {
     "iopub.execute_input": "2023-09-25T10:49:21.861973Z",
     "iopub.status.busy": "2023-09-25T10:49:21.861475Z",
     "iopub.status.idle": "2023-09-25T10:49:22.137145Z",
     "shell.execute_reply": "2023-09-25T10:49:22.135697Z"
    },
    "papermill": {
     "duration": 0.294429,
     "end_time": "2023-09-25T10:49:22.139948",
     "exception": false,
     "start_time": "2023-09-25T10:49:21.845519",
     "status": "completed"
    },
    "tags": []
   },
   "outputs": [],
   "source": [
    "# Saving classifier \n",
    "import pickle\n",
    "with open('rf_classifier_5m_8h.pkl', 'wb') as f:\n",
    "    pickle.dump(rf_classifier, f)\n",
    "\n",
    "#with open('rf_classifier.pkl', 'rb') as f:\n",
    "#    rf_classifier = pickle.load(f)"
   ]
  },
  {
   "cell_type": "markdown",
   "id": "dd137c11",
   "metadata": {
    "papermill": {
     "duration": 0.015883,
     "end_time": "2023-09-25T10:49:22.170711",
     "exception": false,
     "start_time": "2023-09-25T10:49:22.154828",
     "status": "completed"
    },
    "tags": []
   },
   "source": [
    "### Training and validating gradient boost"
   ]
  },
  {
   "cell_type": "code",
   "execution_count": 12,
   "id": "194ef91d",
   "metadata": {
    "execution": {
     "iopub.execute_input": "2023-09-25T10:49:22.203012Z",
     "iopub.status.busy": "2023-09-25T10:49:22.202579Z",
     "iopub.status.idle": "2023-09-25T10:49:22.210134Z",
     "shell.execute_reply": "2023-09-25T10:49:22.208991Z"
    },
    "papermill": {
     "duration": 0.026831,
     "end_time": "2023-09-25T10:49:22.212622",
     "exception": false,
     "start_time": "2023-09-25T10:49:22.185791",
     "status": "completed"
    },
    "tags": []
   },
   "outputs": [
    {
     "data": {
      "text/plain": [
       "'# With SKL\\nfrom sklearn.ensemble import GradientBoostingClassifier\\n\\ngb_classifier = GradientBoostingClassifier(n_estimators=100, learning_rate=0.05, max_depth=10, random_state=42)\\ngb_classifier.fit(X_train[feature_cols], y_train)'"
      ]
     },
     "execution_count": 12,
     "metadata": {},
     "output_type": "execute_result"
    }
   ],
   "source": [
    "'''# With SKL\n",
    "from sklearn.ensemble import GradientBoostingClassifier\n",
    "\n",
    "gb_classifier = GradientBoostingClassifier(n_estimators=100, learning_rate=0.05, max_depth=10, random_state=42)\n",
    "gb_classifier.fit(X_train[feature_cols], y_train)'''"
   ]
  },
  {
   "cell_type": "code",
   "execution_count": 13,
   "id": "cb9047f7",
   "metadata": {
    "execution": {
     "iopub.execute_input": "2023-09-25T10:49:22.244557Z",
     "iopub.status.busy": "2023-09-25T10:49:22.244107Z",
     "iopub.status.idle": "2023-09-25T10:49:22.251684Z",
     "shell.execute_reply": "2023-09-25T10:49:22.250464Z"
    },
    "papermill": {
     "duration": 0.02628,
     "end_time": "2023-09-25T10:49:22.254063",
     "exception": false,
     "start_time": "2023-09-25T10:49:22.227783",
     "status": "completed"
    },
    "tags": []
   },
   "outputs": [
    {
     "data": {
      "text/plain": [
       "\"# Plotting feature importances\\npx.bar(x=feature_cols, \\n       y=gb_classifier.feature_importances_,\\n       title='Gradient boosting feature importances'\\n      )\""
      ]
     },
     "execution_count": 13,
     "metadata": {},
     "output_type": "execute_result"
    }
   ],
   "source": [
    "'''# Plotting feature importances\n",
    "px.bar(x=feature_cols, \n",
    "       y=gb_classifier.feature_importances_,\n",
    "       title='Gradient boosting feature importances'\n",
    "      )'''"
   ]
  },
  {
   "cell_type": "code",
   "execution_count": 14,
   "id": "c05cc011",
   "metadata": {
    "execution": {
     "iopub.execute_input": "2023-09-25T10:49:22.287302Z",
     "iopub.status.busy": "2023-09-25T10:49:22.286867Z",
     "iopub.status.idle": "2023-09-25T10:49:22.294434Z",
     "shell.execute_reply": "2023-09-25T10:49:22.293068Z"
    },
    "papermill": {
     "duration": 0.027432,
     "end_time": "2023-09-25T10:49:22.296689",
     "exception": false,
     "start_time": "2023-09-25T10:49:22.269257",
     "status": "completed"
    },
    "tags": []
   },
   "outputs": [
    {
     "data": {
      "text/plain": [
       "'\\n# Checking performance on validation set\\ngb_submission = get_events(val_data, gb_classifier)\\n\\nprint(f\"Gradient boosting score: {score(val_solution, gb_submission, tolerances, **column_names)}\")\\n'"
      ]
     },
     "execution_count": 14,
     "metadata": {},
     "output_type": "execute_result"
    }
   ],
   "source": [
    "'''\n",
    "# Checking performance on validation set\n",
    "gb_submission = get_events(val_data, gb_classifier)\n",
    "\n",
    "print(f\"Gradient boosting score: {score(val_solution, gb_submission, tolerances, **column_names)}\")\n",
    "'''"
   ]
  },
  {
   "cell_type": "markdown",
   "id": "e179938b",
   "metadata": {
    "papermill": {
     "duration": 0.014887,
     "end_time": "2023-09-25T10:49:22.326667",
     "exception": false,
     "start_time": "2023-09-25T10:49:22.311780",
     "status": "completed"
    },
    "tags": []
   },
   "source": [
    "## Applying to test data"
   ]
  },
  {
   "cell_type": "code",
   "execution_count": 15,
   "id": "e9084aa8",
   "metadata": {
    "execution": {
     "iopub.execute_input": "2023-09-25T10:49:22.359788Z",
     "iopub.status.busy": "2023-09-25T10:49:22.359344Z",
     "iopub.status.idle": "2023-09-25T10:49:22.398497Z",
     "shell.execute_reply": "2023-09-25T10:49:22.397369Z"
    },
    "papermill": {
     "duration": 0.058859,
     "end_time": "2023-09-25T10:49:22.401003",
     "exception": false,
     "start_time": "2023-09-25T10:49:22.342144",
     "status": "completed"
    },
    "tags": []
   },
   "outputs": [],
   "source": [
    "# Recovering memory\n",
    "del train_data "
   ]
  },
  {
   "cell_type": "code",
   "execution_count": 16,
   "id": "c1a9f638",
   "metadata": {
    "execution": {
     "iopub.execute_input": "2023-09-25T10:49:22.433805Z",
     "iopub.status.busy": "2023-09-25T10:49:22.433408Z",
     "iopub.status.idle": "2023-09-25T10:49:23.349744Z",
     "shell.execute_reply": "2023-09-25T10:49:23.348231Z"
    },
    "papermill": {
     "duration": 0.9364,
     "end_time": "2023-09-25T10:49:23.352792",
     "exception": false,
     "start_time": "2023-09-25T10:49:22.416392",
     "status": "completed"
    },
    "tags": []
   },
   "outputs": [
    {
     "name": "stderr",
     "output_type": "stream",
     "text": [
      "100%|██████████| 3/3 [00:00<00:00,  3.53it/s]\n"
     ]
    }
   ],
   "source": [
    "# Getting event predictions for test set and saving submission\n",
    "submission = get_events(test_series.collect(), rf_classifier)\n",
    "submission.to_csv('submission.csv', index=False)"
   ]
  }
 ],
 "metadata": {
  "kernelspec": {
   "display_name": "Python 3",
   "language": "python",
   "name": "python3"
  },
  "language_info": {
   "codemirror_mode": {
    "name": "ipython",
    "version": 3
   },
   "file_extension": ".py",
   "mimetype": "text/x-python",
   "name": "python",
   "nbconvert_exporter": "python",
   "pygments_lexer": "ipython3",
   "version": "3.10.12"
  },
  "papermill": {
   "default_parameters": {},
   "duration": 3457.48585,
   "end_time": "2023-09-25T10:49:24.502314",
   "environment_variables": {},
   "exception": null,
   "input_path": "__notebook__.ipynb",
   "output_path": "__notebook__.ipynb",
   "parameters": {},
   "start_time": "2023-09-25T09:51:47.016464",
   "version": "2.4.0"
  }
 },
 "nbformat": 4,
 "nbformat_minor": 5
}
