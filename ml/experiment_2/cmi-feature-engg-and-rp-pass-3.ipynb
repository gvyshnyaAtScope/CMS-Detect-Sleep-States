{
 "cells": [
  {
   "cell_type": "code",
   "execution_count": 1,
   "id": "76d215fc",
   "metadata": {
    "_cell_guid": "b1076dfc-b9ad-4769-8c92-a6c4dae69d19",
    "_uuid": "8f2839f25d086af736a60e9eeb907d3b93b6e0e5",
    "execution": {
     "iopub.execute_input": "2023-09-27T07:29:55.905621Z",
     "iopub.status.busy": "2023-09-27T07:29:55.905189Z",
     "iopub.status.idle": "2023-09-27T07:30:01.070146Z",
     "shell.execute_reply": "2023-09-27T07:30:01.068927Z"
    },
    "papermill": {
     "duration": 5.17689,
     "end_time": "2023-09-27T07:30:01.073237",
     "exception": false,
     "start_time": "2023-09-27T07:29:55.896347",
     "status": "completed"
    },
    "tags": []
   },
   "outputs": [],
   "source": [
    "import numpy as np \n",
    "import pandas as pd\n",
    "import matplotlib.pyplot as plt\n",
    "import polars as pl\n",
    "import datetime \n",
    "from tqdm import tqdm\n",
    "\n",
    "import optuna\n",
    "from sklearn.ensemble import RandomForestClassifier\n",
    "from sklearn.model_selection import train_test_split\n",
    "from sklearn.metrics import f1_score\n",
    "\n",
    "import plotly.express as px\n",
    "from plotly.subplots import make_subplots\n",
    "import plotly.graph_objects as go\n",
    "\n",
    "from metric import score # Import event detection ap score function\n",
    "\n",
    "# These are variables to be used by the score function\n",
    "column_names = {\n",
    "    'series_id_column_name': 'series_id',\n",
    "    'time_column_name': 'step',\n",
    "    'event_column_name': 'event',\n",
    "    'score_column_name': 'score',\n",
    "}\n",
    "\n",
    "tolerances = {\n",
    "    'onset': [12, 36, 60, 90, 120, 150, 180, 240, 300, 360], \n",
    "    'wakeup': [12, 36, 60, 90, 120, 150, 180, 240, 300, 360]\n",
    "}"
   ]
  },
  {
   "cell_type": "markdown",
   "id": "26c76d42",
   "metadata": {
    "papermill": {
     "duration": 0.006174,
     "end_time": "2023-09-27T07:30:01.089230",
     "exception": false,
     "start_time": "2023-09-27T07:30:01.083056",
     "status": "completed"
    },
    "tags": []
   },
   "source": [
    "## Importing data"
   ]
  },
  {
   "cell_type": "code",
   "execution_count": 2,
   "id": "b2ea2e7e",
   "metadata": {
    "execution": {
     "iopub.execute_input": "2023-09-27T07:30:01.107166Z",
     "iopub.status.busy": "2023-09-27T07:30:01.106182Z",
     "iopub.status.idle": "2023-09-27T07:30:01.470938Z",
     "shell.execute_reply": "2023-09-27T07:30:01.469963Z"
    },
    "papermill": {
     "duration": 0.376697,
     "end_time": "2023-09-27T07:30:01.473852",
     "exception": false,
     "start_time": "2023-09-27T07:30:01.097155",
     "status": "completed"
    },
    "tags": []
   },
   "outputs": [],
   "source": [
    "# Importing data \n",
    "\n",
    "# Column transformations\n",
    "\n",
    "dt_transforms = [\n",
    "    pl.col('timestamp').str.to_datetime(), \n",
    "    (pl.col('timestamp').str.to_datetime().dt.year()-2000).cast(pl.UInt8).alias('year'), \n",
    "    pl.col('timestamp').str.to_datetime().dt.month().cast(pl.UInt8).alias('month'),\n",
    "    pl.col('timestamp').str.to_datetime().dt.day().cast(pl.UInt8).alias('day'), \n",
    "    pl.col('timestamp').str.to_datetime().dt.hour().cast(pl.UInt8).alias('hour')\n",
    "]\n",
    "\n",
    "data_transforms = [\n",
    "    pl.col('anglez').cast(pl.Int16), # Casting anglez to 16 bit integer\n",
    "    (pl.col('enmo')*1000).cast(pl.UInt16), # Convert enmo to 16 bit uint\n",
    "]\n",
    "\n",
    "train_series = pl.scan_parquet('/kaggle/input/child-mind-institute-detect-sleep-states/train_series.parquet').with_columns(\n",
    "    dt_transforms + data_transforms\n",
    "    )\n",
    "\n",
    "train_events = pl.read_csv('/kaggle/input/child-mind-institute-detect-sleep-states/train_events.csv').with_columns(\n",
    "    dt_transforms\n",
    "    )\n",
    "\n",
    "test_series = pl.scan_parquet('/kaggle/input/child-mind-institute-detect-sleep-states/test_series.parquet').with_columns(\n",
    "    dt_transforms + data_transforms\n",
    "    )\n",
    "\n",
    "# Getting series ids as a list for convenience\n",
    "series_ids = train_events['series_id'].unique(maintain_order=True).to_list()\n",
    "\n",
    "# Removing series with mismatched counts: \n",
    "onset_counts = train_events.filter(pl.col('event')=='onset').group_by('series_id').count().sort('series_id')['count']\n",
    "wakeup_counts = train_events.filter(pl.col('event')=='wakeup').group_by('series_id').count().sort('series_id')['count']\n",
    "\n",
    "counts = pl.DataFrame({'series_id':sorted(series_ids), 'onset_counts':onset_counts, 'wakeup_counts':wakeup_counts})\n",
    "count_mismatches = counts.filter(counts['onset_counts'] != counts['wakeup_counts'])\n",
    "\n",
    "train_series = train_series.filter(~pl.col('series_id').is_in(count_mismatches['series_id']))\n",
    "train_events = train_events.filter(~pl.col('series_id').is_in(count_mismatches['series_id']))\n",
    "\n",
    "# Updating list of series ids, not including series with no non-null values.\n",
    "series_ids = train_events.drop_nulls()['series_id'].unique(maintain_order=True).to_list()"
   ]
  },
  {
   "cell_type": "markdown",
   "id": "08aa08c9",
   "metadata": {
    "papermill": {
     "duration": 0.005885,
     "end_time": "2023-09-27T07:30:01.486207",
     "exception": false,
     "start_time": "2023-09-27T07:30:01.480322",
     "status": "completed"
    },
    "tags": []
   },
   "source": [
    "## Feature Engineering"
   ]
  },
  {
   "cell_type": "code",
   "execution_count": 3,
   "id": "4577875c",
   "metadata": {
    "execution": {
     "iopub.execute_input": "2023-09-27T07:30:01.500552Z",
     "iopub.status.busy": "2023-09-27T07:30:01.499756Z",
     "iopub.status.idle": "2023-09-27T07:30:01.514505Z",
     "shell.execute_reply": "2023-09-27T07:30:01.513351Z"
    },
    "papermill": {
     "duration": 0.025421,
     "end_time": "2023-09-27T07:30:01.517561",
     "exception": false,
     "start_time": "2023-09-27T07:30:01.492140",
     "status": "completed"
    },
    "tags": []
   },
   "outputs": [],
   "source": [
    "features, feature_cols = [pl.col('hour')], ['hour']\n",
    "\n",
    "for mins in [5, 30, 60*2, 60*8] :\n",
    "    features += [\n",
    "        pl.col('enmo').rolling_mean(12 * mins, center=True, min_periods=1).abs().cast(pl.UInt16).alias(f'enmo_{mins}m_mean'),\n",
    "        pl.col('enmo').rolling_max(12 * mins, center=True, min_periods=1).abs().cast(pl.UInt16).alias(f'enmo_{mins}m_max')\n",
    "    ]\n",
    "\n",
    "    feature_cols += [ \n",
    "        f'enmo_{mins}m_mean', f'enmo_{mins}m_max'\n",
    "    ]\n",
    "\n",
    "    # Getting first variations\n",
    "    for var in ['enmo', 'anglez'] :\n",
    "        features += [\n",
    "            (pl.col(var).diff().abs().rolling_mean(12 * mins, center=True, min_periods=1)*10).abs().cast(pl.UInt32).alias(f'{var}_1v_{mins}m_mean'),\n",
    "            (pl.col(var).diff().abs().rolling_max(12 * mins, center=True, min_periods=1)*10).abs().cast(pl.UInt32).alias(f'{var}_1v_{mins}m_max')\n",
    "        ]\n",
    "\n",
    "        feature_cols += [ \n",
    "            f'{var}_1v_{mins}m_mean', f'{var}_1v_{mins}m_max'\n",
    "        ]\n",
    "\n",
    "id_cols = ['series_id', 'step', 'timestamp']\n",
    "\n",
    "train_series = train_series.with_columns(\n",
    "    features\n",
    ").select(id_cols + feature_cols)\n",
    "\n",
    "test_series = test_series.with_columns(\n",
    "    features\n",
    ").select(id_cols + feature_cols)"
   ]
  },
  {
   "cell_type": "code",
   "execution_count": 4,
   "id": "9f5a35c3",
   "metadata": {
    "execution": {
     "iopub.execute_input": "2023-09-27T07:30:01.532287Z",
     "iopub.status.busy": "2023-09-27T07:30:01.531563Z",
     "iopub.status.idle": "2023-09-27T07:30:01.544388Z",
     "shell.execute_reply": "2023-09-27T07:30:01.543178Z"
    },
    "papermill": {
     "duration": 0.023015,
     "end_time": "2023-09-27T07:30:01.546847",
     "exception": false,
     "start_time": "2023-09-27T07:30:01.523832",
     "status": "completed"
    },
    "tags": []
   },
   "outputs": [],
   "source": [
    "def make_train_dataset(train_data, train_events, drop_nulls=False) :\n",
    "    \n",
    "    series_ids = train_data['series_id'].unique(maintain_order=True).to_list()\n",
    "    X, y = pl.DataFrame(), pl.DataFrame()\n",
    "    for idx in tqdm(series_ids) : \n",
    "        \n",
    "        # Normalizing sample features\n",
    "        sample = train_data.filter(pl.col('series_id')==idx).with_columns(\n",
    "            [(pl.col(col) / pl.col(col).std()).cast(pl.Float32) for col in feature_cols if col != 'hour']\n",
    "        )\n",
    "        \n",
    "        events = train_events.filter(pl.col('series_id')==idx)\n",
    "        \n",
    "        if drop_nulls : \n",
    "            # Removing datapoints on dates where no data was recorded\n",
    "            sample = sample.filter(\n",
    "                pl.col('timestamp').dt.date().is_in(events['timestamp'].dt.date())\n",
    "            )\n",
    "        \n",
    "        X = X.vstack(sample[id_cols + feature_cols])\n",
    "\n",
    "        onsets = events.filter((pl.col('event') == 'onset') & (pl.col('step') != None))['step'].to_list()\n",
    "        wakeups = events.filter((pl.col('event') == 'wakeup') & (pl.col('step') != None))['step'].to_list()\n",
    "\n",
    "        # NOTE: This will break if there are event series without any recorded onsets or wakeups\n",
    "        y = y.vstack(sample.with_columns(\n",
    "            sum([(onset <= pl.col('step')) & (pl.col('step') <= wakeup) for onset, wakeup in zip(onsets, wakeups)]).cast(pl.Boolean).alias('asleep')\n",
    "            ).select('asleep')\n",
    "            )\n",
    "    \n",
    "    y = y.to_numpy().ravel()\n",
    "    \n",
    "    return X, y"
   ]
  },
  {
   "cell_type": "code",
   "execution_count": 5,
   "id": "8bf4bf9d",
   "metadata": {
    "execution": {
     "iopub.execute_input": "2023-09-27T07:30:01.561215Z",
     "iopub.status.busy": "2023-09-27T07:30:01.560738Z",
     "iopub.status.idle": "2023-09-27T07:30:01.578248Z",
     "shell.execute_reply": "2023-09-27T07:30:01.576904Z"
    },
    "papermill": {
     "duration": 0.027855,
     "end_time": "2023-09-27T07:30:01.580988",
     "exception": false,
     "start_time": "2023-09-27T07:30:01.553133",
     "status": "completed"
    },
    "tags": []
   },
   "outputs": [],
   "source": [
    "def get_events(series, classifier) :\n",
    "    '''\n",
    "    Takes a time series and a classifier and returns a formatted submission dataframe.\n",
    "    '''\n",
    "    \n",
    "    series_ids = series['series_id'].unique(maintain_order=True).to_list()\n",
    "    events = pl.DataFrame(schema={'series_id':str, 'step':int, 'event':str, 'score':float})\n",
    "\n",
    "    for idx in tqdm(series_ids) : \n",
    "\n",
    "        # Collecting sample and normalizing features\n",
    "        scale_cols = [col for col in feature_cols if (col != 'hour') & (series[col].std() !=0)]\n",
    "        X = series.filter(pl.col('series_id') == idx).select(id_cols + feature_cols).with_columns(\n",
    "            [(pl.col(col) / series[col].std()).cast(pl.Float32) for col in scale_cols]\n",
    "        )\n",
    "\n",
    "        # Applying classifier to get predictions and scores\n",
    "        preds, probs = classifier.predict(X[feature_cols]), classifier.predict_proba(X[feature_cols])[:, 1]\n",
    "\n",
    "        #NOTE: Considered using rolling max to get sleep periods excluding <30 min interruptions, but ended up decreasing performance\n",
    "        X = X.with_columns(\n",
    "            pl.lit(preds).cast(pl.Int8).alias('prediction'), \n",
    "            pl.lit(probs).alias('probability')\n",
    "                        )\n",
    "        \n",
    "        # Getting predicted onset and wakeup time steps\n",
    "        pred_onsets = X.filter(X['prediction'].diff() > 0)['step'].to_list()\n",
    "        pred_wakeups = X.filter(X['prediction'].diff() < 0)['step'].to_list()\n",
    "        \n",
    "        if len(pred_onsets) > 0 : \n",
    "            \n",
    "            # Ensuring all predicted sleep periods begin and end\n",
    "            if min(pred_wakeups) < min(pred_onsets) : \n",
    "                pred_wakeups = pred_wakeups[1:]\n",
    "\n",
    "            if max(pred_onsets) > max(pred_wakeups) :\n",
    "                pred_onsets = pred_onsets[:-1]\n",
    "\n",
    "            # Keeping sleep periods longer than 30 minutes\n",
    "            sleep_periods = [(onset, wakeup) for onset, wakeup in zip(pred_onsets, pred_wakeups) if wakeup - onset >= 12 * 30]\n",
    "\n",
    "            for onset, wakeup in sleep_periods :\n",
    "                # Scoring using mean probability over period\n",
    "                score = X.filter((pl.col('step') >= onset) & (pl.col('step') <= wakeup))['probability'].mean()\n",
    "\n",
    "                # Adding sleep event to dataframe\n",
    "                events = events.vstack(pl.DataFrame().with_columns(\n",
    "                    pl.Series([idx, idx]).alias('series_id'), \n",
    "                    pl.Series([onset, wakeup]).alias('step'),\n",
    "                    pl.Series(['onset', 'wakeup']).alias('event'),\n",
    "                    pl.Series([score, score]).alias('score')\n",
    "                ))\n",
    "\n",
    "    # Adding row id column\n",
    "    events = events.to_pandas().reset_index().rename(columns={'index':'row_id'})\n",
    "\n",
    "    return events"
   ]
  },
  {
   "cell_type": "markdown",
   "id": "4c33d5b0",
   "metadata": {
    "papermill": {
     "duration": 0.005618,
     "end_time": "2023-09-27T07:30:01.592739",
     "exception": false,
     "start_time": "2023-09-27T07:30:01.587121",
     "status": "completed"
    },
    "tags": []
   },
   "source": [
    "## Training Models"
   ]
  },
  {
   "cell_type": "code",
   "execution_count": 6,
   "id": "d8619971",
   "metadata": {
    "execution": {
     "iopub.execute_input": "2023-09-27T07:30:01.608782Z",
     "iopub.status.busy": "2023-09-27T07:30:01.608224Z",
     "iopub.status.idle": "2023-09-27T07:37:25.065706Z",
     "shell.execute_reply": "2023-09-27T07:37:25.059181Z"
    },
    "papermill": {
     "duration": 443.476734,
     "end_time": "2023-09-27T07:37:25.076061",
     "exception": false,
     "start_time": "2023-09-27T07:30:01.599327",
     "status": "completed"
    },
    "tags": []
   },
   "outputs": [],
   "source": [
    "train_ids, val_ids = train_test_split(series_ids, train_size=0.7, random_state=42)\n",
    "\n",
    "# We will collect datapoints at 5 minute intervals for training for validating\n",
    "train_data = train_series.filter(pl.col('series_id').is_in(train_ids)).take_every(12 * 5).collect()\n",
    "\n",
    "val_data = train_series.filter(pl.col('series_id').is_in(val_ids)).collect()\n",
    "val_solution = train_events.filter(pl.col('series_id').is_in(val_ids)).select(['series_id', 'event', 'step']).to_pandas()\n"
   ]
  },
  {
   "cell_type": "code",
   "execution_count": 7,
   "id": "fcfe3c85",
   "metadata": {
    "execution": {
     "iopub.execute_input": "2023-09-27T07:37:25.111025Z",
     "iopub.status.busy": "2023-09-27T07:37:25.109220Z",
     "iopub.status.idle": "2023-09-27T07:37:31.523543Z",
     "shell.execute_reply": "2023-09-27T07:37:31.521075Z"
    },
    "papermill": {
     "duration": 6.431929,
     "end_time": "2023-09-27T07:37:31.529030",
     "exception": false,
     "start_time": "2023-09-27T07:37:25.097101",
     "status": "completed"
    },
    "tags": []
   },
   "outputs": [
    {
     "name": "stderr",
     "output_type": "stream",
     "text": [
      "100%|██████████| 188/188 [00:06<00:00, 29.83it/s]\n"
     ]
    }
   ],
   "source": [
    "# Creating train dataset\n",
    "X_train, y_train = make_train_dataset(train_data, train_events)"
   ]
  },
  {
   "cell_type": "markdown",
   "id": "3965685e",
   "metadata": {
    "papermill": {
     "duration": 0.018763,
     "end_time": "2023-09-27T07:37:31.570220",
     "exception": false,
     "start_time": "2023-09-27T07:37:31.551457",
     "status": "completed"
    },
    "tags": []
   },
   "source": [
    "### Training and validating random forest"
   ]
  },
  {
   "cell_type": "code",
   "execution_count": 8,
   "id": "d86a3512",
   "metadata": {
    "execution": {
     "iopub.execute_input": "2023-09-27T07:37:31.605628Z",
     "iopub.status.busy": "2023-09-27T07:37:31.604746Z",
     "iopub.status.idle": "2023-09-27T07:45:02.556650Z",
     "shell.execute_reply": "2023-09-27T07:45:02.555310Z"
    },
    "papermill": {
     "duration": 450.988676,
     "end_time": "2023-09-27T07:45:02.574139",
     "exception": false,
     "start_time": "2023-09-27T07:37:31.585463",
     "status": "completed"
    },
    "tags": []
   },
   "outputs": [
    {
     "data": {
      "text/html": [
       "<style>#sk-container-id-1 {color: black;background-color: white;}#sk-container-id-1 pre{padding: 0;}#sk-container-id-1 div.sk-toggleable {background-color: white;}#sk-container-id-1 label.sk-toggleable__label {cursor: pointer;display: block;width: 100%;margin-bottom: 0;padding: 0.3em;box-sizing: border-box;text-align: center;}#sk-container-id-1 label.sk-toggleable__label-arrow:before {content: \"▸\";float: left;margin-right: 0.25em;color: #696969;}#sk-container-id-1 label.sk-toggleable__label-arrow:hover:before {color: black;}#sk-container-id-1 div.sk-estimator:hover label.sk-toggleable__label-arrow:before {color: black;}#sk-container-id-1 div.sk-toggleable__content {max-height: 0;max-width: 0;overflow: hidden;text-align: left;background-color: #f0f8ff;}#sk-container-id-1 div.sk-toggleable__content pre {margin: 0.2em;color: black;border-radius: 0.25em;background-color: #f0f8ff;}#sk-container-id-1 input.sk-toggleable__control:checked~div.sk-toggleable__content {max-height: 200px;max-width: 100%;overflow: auto;}#sk-container-id-1 input.sk-toggleable__control:checked~label.sk-toggleable__label-arrow:before {content: \"▾\";}#sk-container-id-1 div.sk-estimator input.sk-toggleable__control:checked~label.sk-toggleable__label {background-color: #d4ebff;}#sk-container-id-1 div.sk-label input.sk-toggleable__control:checked~label.sk-toggleable__label {background-color: #d4ebff;}#sk-container-id-1 input.sk-hidden--visually {border: 0;clip: rect(1px 1px 1px 1px);clip: rect(1px, 1px, 1px, 1px);height: 1px;margin: -1px;overflow: hidden;padding: 0;position: absolute;width: 1px;}#sk-container-id-1 div.sk-estimator {font-family: monospace;background-color: #f0f8ff;border: 1px dotted black;border-radius: 0.25em;box-sizing: border-box;margin-bottom: 0.5em;}#sk-container-id-1 div.sk-estimator:hover {background-color: #d4ebff;}#sk-container-id-1 div.sk-parallel-item::after {content: \"\";width: 100%;border-bottom: 1px solid gray;flex-grow: 1;}#sk-container-id-1 div.sk-label:hover label.sk-toggleable__label {background-color: #d4ebff;}#sk-container-id-1 div.sk-serial::before {content: \"\";position: absolute;border-left: 1px solid gray;box-sizing: border-box;top: 0;bottom: 0;left: 50%;z-index: 0;}#sk-container-id-1 div.sk-serial {display: flex;flex-direction: column;align-items: center;background-color: white;padding-right: 0.2em;padding-left: 0.2em;position: relative;}#sk-container-id-1 div.sk-item {position: relative;z-index: 1;}#sk-container-id-1 div.sk-parallel {display: flex;align-items: stretch;justify-content: center;background-color: white;position: relative;}#sk-container-id-1 div.sk-item::before, #sk-container-id-1 div.sk-parallel-item::before {content: \"\";position: absolute;border-left: 1px solid gray;box-sizing: border-box;top: 0;bottom: 0;left: 50%;z-index: -1;}#sk-container-id-1 div.sk-parallel-item {display: flex;flex-direction: column;z-index: 1;position: relative;background-color: white;}#sk-container-id-1 div.sk-parallel-item:first-child::after {align-self: flex-end;width: 50%;}#sk-container-id-1 div.sk-parallel-item:last-child::after {align-self: flex-start;width: 50%;}#sk-container-id-1 div.sk-parallel-item:only-child::after {width: 0;}#sk-container-id-1 div.sk-dashed-wrapped {border: 1px dashed gray;margin: 0 0.4em 0.5em 0.4em;box-sizing: border-box;padding-bottom: 0.4em;background-color: white;}#sk-container-id-1 div.sk-label label {font-family: monospace;font-weight: bold;display: inline-block;line-height: 1.2em;}#sk-container-id-1 div.sk-label-container {text-align: center;}#sk-container-id-1 div.sk-container {/* jupyter's `normalize.less` sets `[hidden] { display: none; }` but bootstrap.min.css set `[hidden] { display: none !important; }` so we also need the `!important` here to be able to override the default hidden behavior on the sphinx rendered scikit-learn.org. See: https://github.com/scikit-learn/scikit-learn/issues/21755 */display: inline-block !important;position: relative;}#sk-container-id-1 div.sk-text-repr-fallback {display: none;}</style><div id=\"sk-container-id-1\" class=\"sk-top-container\"><div class=\"sk-text-repr-fallback\"><pre>RandomForestClassifier(max_depth=19, min_samples_leaf=122, n_jobs=-1,\n",
       "                       random_state=42)</pre><b>In a Jupyter environment, please rerun this cell to show the HTML representation or trust the notebook. <br />On GitHub, the HTML representation is unable to render, please try loading this page with nbviewer.org.</b></div><div class=\"sk-container\" hidden><div class=\"sk-item\"><div class=\"sk-estimator sk-toggleable\"><input class=\"sk-toggleable__control sk-hidden--visually\" id=\"sk-estimator-id-1\" type=\"checkbox\" checked><label for=\"sk-estimator-id-1\" class=\"sk-toggleable__label sk-toggleable__label-arrow\">RandomForestClassifier</label><div class=\"sk-toggleable__content\"><pre>RandomForestClassifier(max_depth=19, min_samples_leaf=122, n_jobs=-1,\n",
       "                       random_state=42)</pre></div></div></div></div></div>"
      ],
      "text/plain": [
       "RandomForestClassifier(max_depth=19, min_samples_leaf=122, n_jobs=-1,\n",
       "                       random_state=42)"
      ]
     },
     "execution_count": 8,
     "metadata": {},
     "output_type": "execute_result"
    }
   ],
   "source": [
    "rf_classifier = RandomForestClassifier(n_estimators=100,\n",
    "                                    min_samples_leaf=122,\n",
    "                                    max_depth = 19,\n",
    "                                    random_state=42,\n",
    "                                    n_jobs=-1)\n",
    "\n",
    "rf_classifier.fit(X_train[feature_cols], y_train)\n"
   ]
  },
  {
   "cell_type": "code",
   "execution_count": 9,
   "id": "2e8c84f6",
   "metadata": {
    "execution": {
     "iopub.execute_input": "2023-09-27T07:45:02.600087Z",
     "iopub.status.busy": "2023-09-27T07:45:02.599304Z",
     "iopub.status.idle": "2023-09-27T08:05:33.581965Z",
     "shell.execute_reply": "2023-09-27T08:05:33.580662Z"
    },
    "papermill": {
     "duration": 1231.019857,
     "end_time": "2023-09-27T08:05:33.605334",
     "exception": false,
     "start_time": "2023-09-27T07:45:02.585477",
     "status": "completed"
    },
    "tags": []
   },
   "outputs": [
    {
     "name": "stderr",
     "output_type": "stream",
     "text": [
      "100%|██████████| 81/81 [19:58<00:00, 14.80s/it]\n"
     ]
    },
    {
     "name": "stdout",
     "output_type": "stream",
     "text": [
      "Random forest score: 0.26688067818675276\n"
     ]
    }
   ],
   "source": [
    "# Checking performance on validation set\n",
    "rf_submission = get_events(val_data, rf_classifier)\n",
    "\n",
    "print(f\"Random forest score: {score(val_solution, rf_submission, tolerances, **column_names)}\")"
   ]
  },
  {
   "cell_type": "markdown",
   "id": "2a1984d3",
   "metadata": {
    "papermill": {
     "duration": 0.019184,
     "end_time": "2023-09-27T08:05:33.644082",
     "exception": false,
     "start_time": "2023-09-27T08:05:33.624898",
     "status": "completed"
    },
    "tags": []
   },
   "source": [
    "## Applying to test data"
   ]
  },
  {
   "cell_type": "code",
   "execution_count": 10,
   "id": "2d808d5b",
   "metadata": {
    "execution": {
     "iopub.execute_input": "2023-09-27T08:05:33.684642Z",
     "iopub.status.busy": "2023-09-27T08:05:33.684174Z",
     "iopub.status.idle": "2023-09-27T08:05:33.703262Z",
     "shell.execute_reply": "2023-09-27T08:05:33.702006Z"
    },
    "papermill": {
     "duration": 0.042617,
     "end_time": "2023-09-27T08:05:33.705939",
     "exception": false,
     "start_time": "2023-09-27T08:05:33.663322",
     "status": "completed"
    },
    "tags": []
   },
   "outputs": [],
   "source": [
    "# Recovering memory\n",
    "del train_data "
   ]
  },
  {
   "cell_type": "code",
   "execution_count": 11,
   "id": "b652c080",
   "metadata": {
    "execution": {
     "iopub.execute_input": "2023-09-27T08:05:33.747772Z",
     "iopub.status.busy": "2023-09-27T08:05:33.747352Z",
     "iopub.status.idle": "2023-09-27T08:05:34.054179Z",
     "shell.execute_reply": "2023-09-27T08:05:34.052900Z"
    },
    "papermill": {
     "duration": 0.331387,
     "end_time": "2023-09-27T08:05:34.057016",
     "exception": false,
     "start_time": "2023-09-27T08:05:33.725629",
     "status": "completed"
    },
    "tags": []
   },
   "outputs": [
    {
     "name": "stderr",
     "output_type": "stream",
     "text": [
      "100%|██████████| 3/3 [00:00<00:00, 11.39it/s]\n"
     ]
    }
   ],
   "source": [
    "# Getting event predictions for test set and saving submission\n",
    "submission = get_events(test_series.collect(), rf_classifier)\n",
    "submission.to_csv('submission.csv', index=False)"
   ]
  },
  {
   "cell_type": "code",
   "execution_count": 12,
   "id": "5a1f2e0e",
   "metadata": {
    "execution": {
     "iopub.execute_input": "2023-09-27T08:05:34.100708Z",
     "iopub.status.busy": "2023-09-27T08:05:34.100186Z",
     "iopub.status.idle": "2023-09-27T08:05:34.116260Z",
     "shell.execute_reply": "2023-09-27T08:05:34.115050Z"
    },
    "papermill": {
     "duration": 0.040611,
     "end_time": "2023-09-27T08:05:34.118835",
     "exception": false,
     "start_time": "2023-09-27T08:05:34.078224",
     "status": "completed"
    },
    "tags": []
   },
   "outputs": [
    {
     "data": {
      "text/html": [
       "<div>\n",
       "<style scoped>\n",
       "    .dataframe tbody tr th:only-of-type {\n",
       "        vertical-align: middle;\n",
       "    }\n",
       "\n",
       "    .dataframe tbody tr th {\n",
       "        vertical-align: top;\n",
       "    }\n",
       "\n",
       "    .dataframe thead th {\n",
       "        text-align: right;\n",
       "    }\n",
       "</style>\n",
       "<table border=\"1\" class=\"dataframe\">\n",
       "  <thead>\n",
       "    <tr style=\"text-align: right;\">\n",
       "      <th></th>\n",
       "      <th>row_id</th>\n",
       "      <th>series_id</th>\n",
       "      <th>step</th>\n",
       "      <th>event</th>\n",
       "      <th>score</th>\n",
       "    </tr>\n",
       "  </thead>\n",
       "  <tbody>\n",
       "  </tbody>\n",
       "</table>\n",
       "</div>"
      ],
      "text/plain": [
       "Empty DataFrame\n",
       "Columns: [row_id, series_id, step, event, score]\n",
       "Index: []"
      ]
     },
     "execution_count": 12,
     "metadata": {},
     "output_type": "execute_result"
    }
   ],
   "source": [
    "submission"
   ]
  }
 ],
 "metadata": {
  "kernelspec": {
   "display_name": "Python 3",
   "language": "python",
   "name": "python3"
  },
  "language_info": {
   "codemirror_mode": {
    "name": "ipython",
    "version": 3
   },
   "file_extension": ".py",
   "mimetype": "text/x-python",
   "name": "python",
   "nbconvert_exporter": "python",
   "pygments_lexer": "ipython3",
   "version": "3.10.12"
  },
  "papermill": {
   "default_parameters": {},
   "duration": 2144.824407,
   "end_time": "2023-09-27T08:05:36.866674",
   "environment_variables": {},
   "exception": null,
   "input_path": "__notebook__.ipynb",
   "output_path": "__notebook__.ipynb",
   "parameters": {},
   "start_time": "2023-09-27T07:29:52.042267",
   "version": "2.4.0"
  }
 },
 "nbformat": 4,
 "nbformat_minor": 5
}
